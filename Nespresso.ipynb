{
 "cells": [
  {
   "cell_type": "code",
   "execution_count": 8,
   "id": "397bfd1e",
   "metadata": {},
   "outputs": [],
   "source": [
    "import pandas as pd\n",
    "import numpy as np\n",
    "from faker import Faker\n",
    "import random\n",
    "import datetime\n"
   ]
  },
  {
   "cell_type": "code",
   "execution_count": null,
   "id": "21272e04",
   "metadata": {},
   "outputs": [],
   "source": [
    "#Setup Faker và seed random (để tái tạo kết quả):\n",
    "fake = Faker()\n",
    "np.random.seed(42)\n",
    "random.seed(42)"
   ]
  },
  {
   "cell_type": "code",
   "execution_count": 14,
   "id": "137aa380",
   "metadata": {},
   "outputs": [],
   "source": [
    "import pandas as pd\n",
    "import numpy as np\n",
    "from faker import Faker\n",
    "import random\n",
    "import datetime\n",
    "\n",
    "fake = Faker()\n",
    "np.random.seed(42)\n",
    "random.seed(42)\n",
    "\n",
    "# Số lượng đơn hàng\n",
    "num_orders = 1200\n",
    "\n",
    "# Định nghĩa ngày bắt đầu và kết thúc\n",
    "start_date = datetime.date(2023, 1, 1)\n",
    "end_date = datetime.date(2023, 3, 31)\n",
    "\n",
    "# Tạo OrderID, OrderDate, CustomerID\n",
    "order_ids = [f'ORD{1200 + i}' for i in range(num_orders)]\n",
    "order_dates = [fake.date_between(start_date=start_date, end_date=end_date) for _ in range(num_orders)]\n",
    "customer_ids = [f'CUST{random.randint(1, 300)}' for _ in range(num_orders)]\n",
    "\n",
    "# Product options\n",
    "products = [\n",
    "    'Ristretto', 'Arpeggio', 'Roma', 'Kazaar', 'Livanto', 'Capriccio',\n",
    "    'Volluto', 'Cosi', 'Volluto Decaffeinato', 'Paris Espresso', \n",
    "    'Istanbul Espresso', 'Rio de Janeiro Espresso', 'Buenos Aires Lungo', \n",
    "    'Shanghai Lungo', 'Vienna Lungo', 'Tokyo Lungo', 'Stockholm Lungo', \n",
    "    'Cape Town Lungo', 'Scuro', 'Chiaro', 'Corto', 'Ethiopia', 'Nicaragua', \n",
    "    'Colombia', 'Peru Organic', 'Indonesia', 'India', 'Vaniglia', \n",
    "    'Cioccolatino', 'Caramello', 'Nocciola', 'Essenza Mini Red', 'Essenza Mini Black',\n",
    "    'Essenza Mini White', 'Inissia Black', 'Inissia Red', 'Pixie Titan', 'Pixie Red',\n",
    "    'Lattissima One White', 'Lattissima One Black', 'Gran Lattissima White', 'Gran Lattissima Black',\n",
    "    'Aeroccino 3', 'Aeroccino 4'\n",
    "]\n",
    "\n",
    "# Categories\n",
    "categories = {\n",
    "    # Espresso\n",
    "    'Volluto Decaffeinato': 'Espresso',\n",
    "    'Volluto': 'Espresso',\n",
    "    'Cosi': 'Espresso',\n",
    "    'Capriccio': 'Espresso',\n",
    "\n",
    "    # Master Origin\n",
    "    'Ethiopia': 'Master Origin',\n",
    "    'Nicaragua': 'Master Origin',\n",
    "    'Colombia': 'Master Origin',\n",
    "    'Peru Organic': 'Master Origin',\n",
    "    'Indonesia': 'Master Origin',\n",
    "    'India': 'Master Origin',\n",
    "\n",
    "    # World Explorations\n",
    "    'Buenos Aires Lungo': 'World Explorations',\n",
    "    'Shanghai Lungo': 'World Explorations',\n",
    "    'Vienna Lungo': 'World Explorations',\n",
    "    'Tokyo Lungo': 'World Explorations',\n",
    "    'Stockholm Lungo': 'World Explorations',\n",
    "    'Cape Town Lungo': 'World Explorations',\n",
    "    'Paris Espresso': 'World Explorations',\n",
    "    'Istanbul Espresso': 'World Explorations',\n",
    "    'Rio de Janeiro Espresso': 'World Explorations',\n",
    "\n",
    "    # Barista Creations\n",
    "    'Scuro': 'Barista Creations',\n",
    "    'Chiaro': 'Barista Creations',\n",
    "    'Corto': 'Barista Creations',\n",
    "    'Vaniglia': 'Barista Creations',\n",
    "    'Cioccolatino': 'Barista Creations',\n",
    "    'Caramello': 'Barista Creations',\n",
    "    'Nocciola': 'Barista Creations',\n",
    "\n",
    "    # Coffee Machine\n",
    "    'Essenza Mini Red': 'Coffee Machine',\n",
    "    'Essenza Mini Black': 'Coffee Machine',\n",
    "    'Essenza Mini White': 'Coffee Machine',\n",
    "    'Inissia Black': 'Coffee Machine',\n",
    "    'Inissia Red': 'Coffee Machine',\n",
    "    'Pixie Titan': 'Coffee Machine',\n",
    "    'Pixie Red': 'Coffee Machine',\n",
    "    'Lattissima One White': 'Coffee Machine',\n",
    "    'Lattissima One Black': 'Coffee Machine',\n",
    "    'Gran Lattissima White': 'Coffee Machine',\n",
    "    'Gran Lattissima Black': 'Coffee Machine',\n",
    "    'Aeroccino 3': 'Coffee Machine',\n",
    "    'Aeroccino 4': 'Coffee Machine'\n",
    "}\n",
    "\n",
    "# Prices\n",
    "prices = {\n",
    "    'Ristretto': 18000,\n",
    "    'Arpeggio': 18000,\n",
    "    'Roma': 18000,\n",
    "    'Kazaar': 18000,\n",
    "    'Livanto': 18000,\n",
    "    'Capriccio': 18000,\n",
    "    'Volluto': 18000,\n",
    "    'Cosi': 18000,\n",
    "\n",
    "    'Volluto Decaffeinato': 19500,\n",
    "    'Paris Espresso': 19500,\n",
    "    'Istanbul Espresso': 19500,\n",
    "    'Rio de Janeiro Espresso': 19500,\n",
    "\n",
    "    'Buenos Aires Lungo': 20300,\n",
    "    'Shanghai Lungo': 20300,\n",
    "    'Vienna Lungo': 20300,\n",
    "    'Tokyo Lungo': 20300,\n",
    "    'Stockholm Lungo': 20300,\n",
    "    'Cape Town Lungo': 20300,\n",
    "    'Scuro': 20300,\n",
    "    'Chiaro': 20300,\n",
    "    'Corto': 20300,\n",
    "\n",
    "    'Ethiopia': 21000,\n",
    "    'Nicaragua': 21000,\n",
    "    'Colombia': 21000,\n",
    "    'Peru Organic': 21000,\n",
    "    'Indonesia': 21000,\n",
    "    'India': 21000,\n",
    "\n",
    "    'Vaniglia': 21500,\n",
    "    'Cioccolatino': 21500,\n",
    "    'Caramello': 21500,\n",
    "    'Nocciola': 21500,\n",
    "\n",
    "    'Essenza Mini Red': 4000000,\n",
    "    'Essenza Mini Black': 4000000,\n",
    "    'Essenza Mini White': 4000000,\n",
    "    'Inissia Black': 4600000,\n",
    "    'Inissia Red': 4600000,\n",
    "    'Pixie Titan': 6500000,\n",
    "    'Pixie Red': 6500000,\n",
    "    'Lattissima One White': 12500000,\n",
    "    'Lattissima One Black': 12500000,\n",
    "    'Gran Lattissima White': 17500000,\n",
    "    'Gran Lattissima Black': 17500000,\n",
    "    'Aeroccino 3': 2600000,\n",
    "    'Aeroccino 4': 3400000\n",
    "}\n",
    "\n",
    "# Random Product, Category, Price, Quantity\n",
    "product_names = [random.choice(products) for _ in range(num_orders)]\n",
    "categories_list = [categories.get(p, 'Unknown') for p in product_names]\n",
    "unit_prices = [prices[p] for p in product_names]\n",
    "quantities = [random.randint(1, 5) for _ in range(num_orders)]\n",
    "\n",
    "# Revenue\n",
    "revenues = [u*q for u, q in zip(unit_prices, quantities)]\n",
    "\n",
    "# Store (chỉ 2 chi nhánh ở TP.HCM)\n",
    "stores = [random.choice(['Estella', 'Thao Dien']) for _ in range(num_orders)]\n",
    "\n",
    "# Payment methods (chỉ Card hoặc Cash)\n",
    "payment_methods = [random.choice(['Card', 'Cash']) for _ in range(num_orders)]\n",
    "\n",
    "# Gender & AgeGroup\n",
    "genders = [random.choice(['Male', 'Female']) for _ in range(num_orders)]\n",
    "age_groups = [random.choice(['18-24', '25-34', '35-44', '45+']) for _ in range(num_orders)]\n"
   ]
  },
  {
   "cell_type": "markdown",
   "id": "d6d7ac60",
   "metadata": {},
   "source": [
    "Đưa dữ liệu vào Dataframe"
   ]
  },
  {
   "cell_type": "code",
   "execution_count": 17,
   "id": "52861d21",
   "metadata": {},
   "outputs": [
    {
     "name": "stdout",
     "output_type": "stream",
     "text": [
      "File 'nespresso_sales_data.csv' đã được lưu thành công!\n"
     ]
    }
   ],
   "source": [
    "df = pd.DataFrame({\n",
    "    'OrderID': order_ids,\n",
    "    'OrderDate': order_dates,\n",
    "    'CustomerID': customer_ids,\n",
    "    'ProductName': product_names,\n",
    "    'Category': categories_list,\n",
    "    'UnitPrice': unit_prices,\n",
    "    'Quantity': quantities,\n",
    "    'Revenue': revenues,\n",
    "    'Store': stores,\n",
    "    'PaymentMethod': payment_methods,\n",
    "    'Gender': genders,\n",
    "    'AgeGroup': age_groups\n",
    "})\n",
    "\n",
    "df['OrderDate'] = pd.to_datetime(df['OrderDate'])\n",
    "df.to_csv('nespresso_sales_data.csv', index=False, encoding='utf-8-sig')\n",
    "print(\"File 'nespresso_sales_data.csv' đã được lưu thành công!\")\n"
   ]
  },
  {
   "cell_type": "markdown",
   "id": "aa32be91",
   "metadata": {},
   "source": [
    "## 🔍 EDA (Exploratory Data Analysis)"
   ]
  },
  {
   "cell_type": "markdown",
   "id": "1ac41387",
   "metadata": {},
   "source": [
    "# Tổng quan dữ liệu"
   ]
  },
  {
   "cell_type": "code",
   "execution_count": 18,
   "id": "6333380d",
   "metadata": {},
   "outputs": [
    {
     "name": "stdout",
     "output_type": "stream",
     "text": [
      "<class 'pandas.core.frame.DataFrame'>\n",
      "RangeIndex: 1200 entries, 0 to 1199\n",
      "Data columns (total 12 columns):\n",
      " #   Column         Non-Null Count  Dtype         \n",
      "---  ------         --------------  -----         \n",
      " 0   OrderID        1200 non-null   object        \n",
      " 1   OrderDate      1200 non-null   datetime64[ns]\n",
      " 2   CustomerID     1200 non-null   object        \n",
      " 3   ProductName    1200 non-null   object        \n",
      " 4   Category       1200 non-null   object        \n",
      " 5   UnitPrice      1200 non-null   int64         \n",
      " 6   Quantity       1200 non-null   int64         \n",
      " 7   Revenue        1200 non-null   int64         \n",
      " 8   Store          1200 non-null   object        \n",
      " 9   PaymentMethod  1200 non-null   object        \n",
      " 10  Gender         1200 non-null   object        \n",
      " 11  AgeGroup       1200 non-null   object        \n",
      "dtypes: datetime64[ns](1), int64(3), object(8)\n",
      "memory usage: 112.6+ KB\n"
     ]
    }
   ],
   "source": [
    "df.info()"
   ]
  },
  {
   "cell_type": "code",
   "execution_count": 19,
   "id": "a1c579fe",
   "metadata": {},
   "outputs": [
    {
     "data": {
      "text/html": [
       "<div>\n",
       "<style scoped>\n",
       "    .dataframe tbody tr th:only-of-type {\n",
       "        vertical-align: middle;\n",
       "    }\n",
       "\n",
       "    .dataframe tbody tr th {\n",
       "        vertical-align: top;\n",
       "    }\n",
       "\n",
       "    .dataframe thead th {\n",
       "        text-align: right;\n",
       "    }\n",
       "</style>\n",
       "<table border=\"1\" class=\"dataframe\">\n",
       "  <thead>\n",
       "    <tr style=\"text-align: right;\">\n",
       "      <th></th>\n",
       "      <th>OrderID</th>\n",
       "      <th>OrderDate</th>\n",
       "      <th>CustomerID</th>\n",
       "      <th>ProductName</th>\n",
       "      <th>Category</th>\n",
       "      <th>UnitPrice</th>\n",
       "      <th>Quantity</th>\n",
       "      <th>Revenue</th>\n",
       "      <th>Store</th>\n",
       "      <th>PaymentMethod</th>\n",
       "      <th>Gender</th>\n",
       "      <th>AgeGroup</th>\n",
       "    </tr>\n",
       "  </thead>\n",
       "  <tbody>\n",
       "    <tr>\n",
       "      <th>0</th>\n",
       "      <td>ORD1200</td>\n",
       "      <td>2023-03-29</td>\n",
       "      <td>CUST58</td>\n",
       "      <td>Kazaar</td>\n",
       "      <td>Unknown</td>\n",
       "      <td>18000</td>\n",
       "      <td>5</td>\n",
       "      <td>90000</td>\n",
       "      <td>Thao Dien</td>\n",
       "      <td>Card</td>\n",
       "      <td>Female</td>\n",
       "      <td>45+</td>\n",
       "    </tr>\n",
       "    <tr>\n",
       "      <th>1</th>\n",
       "      <td>ORD1201</td>\n",
       "      <td>2023-02-15</td>\n",
       "      <td>CUST13</td>\n",
       "      <td>Volluto Decaffeinato</td>\n",
       "      <td>Espresso</td>\n",
       "      <td>19500</td>\n",
       "      <td>3</td>\n",
       "      <td>58500</td>\n",
       "      <td>Estella</td>\n",
       "      <td>Card</td>\n",
       "      <td>Female</td>\n",
       "      <td>35-44</td>\n",
       "    </tr>\n",
       "    <tr>\n",
       "      <th>2</th>\n",
       "      <td>ORD1202</td>\n",
       "      <td>2023-02-02</td>\n",
       "      <td>CUST141</td>\n",
       "      <td>India</td>\n",
       "      <td>Master Origin</td>\n",
       "      <td>21000</td>\n",
       "      <td>4</td>\n",
       "      <td>84000</td>\n",
       "      <td>Estella</td>\n",
       "      <td>Card</td>\n",
       "      <td>Male</td>\n",
       "      <td>25-34</td>\n",
       "    </tr>\n",
       "    <tr>\n",
       "      <th>3</th>\n",
       "      <td>ORD1203</td>\n",
       "      <td>2023-03-21</td>\n",
       "      <td>CUST126</td>\n",
       "      <td>Essenza Mini White</td>\n",
       "      <td>Coffee Machine</td>\n",
       "      <td>4000000</td>\n",
       "      <td>5</td>\n",
       "      <td>20000000</td>\n",
       "      <td>Estella</td>\n",
       "      <td>Card</td>\n",
       "      <td>Female</td>\n",
       "      <td>18-24</td>\n",
       "    </tr>\n",
       "    <tr>\n",
       "      <th>4</th>\n",
       "      <td>ORD1204</td>\n",
       "      <td>2023-01-03</td>\n",
       "      <td>CUST115</td>\n",
       "      <td>Cosi</td>\n",
       "      <td>Espresso</td>\n",
       "      <td>18000</td>\n",
       "      <td>4</td>\n",
       "      <td>72000</td>\n",
       "      <td>Thao Dien</td>\n",
       "      <td>Cash</td>\n",
       "      <td>Male</td>\n",
       "      <td>35-44</td>\n",
       "    </tr>\n",
       "  </tbody>\n",
       "</table>\n",
       "</div>"
      ],
      "text/plain": [
       "   OrderID  OrderDate CustomerID           ProductName        Category  \\\n",
       "0  ORD1200 2023-03-29     CUST58                Kazaar         Unknown   \n",
       "1  ORD1201 2023-02-15     CUST13  Volluto Decaffeinato        Espresso   \n",
       "2  ORD1202 2023-02-02    CUST141                 India   Master Origin   \n",
       "3  ORD1203 2023-03-21    CUST126    Essenza Mini White  Coffee Machine   \n",
       "4  ORD1204 2023-01-03    CUST115                  Cosi        Espresso   \n",
       "\n",
       "   UnitPrice  Quantity   Revenue      Store PaymentMethod  Gender AgeGroup  \n",
       "0      18000         5     90000  Thao Dien          Card  Female      45+  \n",
       "1      19500         3     58500    Estella          Card  Female    35-44  \n",
       "2      21000         4     84000    Estella          Card    Male    25-34  \n",
       "3    4000000         5  20000000    Estella          Card  Female    18-24  \n",
       "4      18000         4     72000  Thao Dien          Cash    Male    35-44  "
      ]
     },
     "execution_count": 19,
     "metadata": {},
     "output_type": "execute_result"
    }
   ],
   "source": [
    "df.head()"
   ]
  },
  {
   "cell_type": "markdown",
   "id": "430bbb63",
   "metadata": {},
   "source": [
    "# Tổng đơn hàng và doanh thu"
   ]
  },
  {
   "cell_type": "code",
   "execution_count": 21,
   "id": "c114085f",
   "metadata": {},
   "outputs": [
    {
     "name": "stdout",
     "output_type": "stream",
     "text": [
      "Tổng số đơn hàng: 1200\n",
      "Tổng doanh thu: 9,131,561,500 VNĐ\n"
     ]
    }
   ],
   "source": [
    "total_orders = df['OrderID'].nunique()\n",
    "total_revenue = df['Revenue'].sum()\n",
    "\n",
    "print(f\"Tổng số đơn hàng: {total_orders}\")\n",
    "print(f\"Tổng doanh thu: {total_revenue:,.0f} VNĐ\")"
   ]
  },
  {
   "cell_type": "markdown",
   "id": "7a1abc33",
   "metadata": {},
   "source": [
    "# Doanh thu theo tháng"
   ]
  },
  {
   "cell_type": "code",
   "execution_count": 22,
   "id": "462387d2",
   "metadata": {},
   "outputs": [
    {
     "name": "stdout",
     "output_type": "stream",
     "text": [
      "     Month     Revenue\n",
      "0  2023-01  2899934200\n",
      "1  2023-02  2786209100\n",
      "2  2023-03  3445418200\n"
     ]
    }
   ],
   "source": [
    "# Tạo một cột 'Month' trong dataframe df bằng cách lấy cột 'OrderDate' và chuyển đổi thành kiểu thời gian Period theo tháng (ví dụ: '2024-01', '2024-02')\n",
    "df['Month'] = df['OrderDate'].dt.to_period('M')\n",
    "# Nhóm dữ liệu theo cột 'Month', tính tổng doanh thu ('Revenue') cho từng tháng và reset lại chỉ số index để tạo dataframe mới\n",
    "revenue_by_month = df.groupby('Month')['Revenue'].sum().reset_index()\n",
    "\n",
    "print(revenue_by_month)\n"
   ]
  },
  {
   "cell_type": "markdown",
   "id": "fa940a03",
   "metadata": {},
   "source": [
    "# Doanh thu theo chi nhánh"
   ]
  },
  {
   "cell_type": "code",
   "execution_count": 23,
   "id": "4220e3b9",
   "metadata": {},
   "outputs": [
    {
     "name": "stdout",
     "output_type": "stream",
     "text": [
      "       Store     Revenue\n",
      "0    Estella  4741451400\n",
      "1  Thao Dien  4390110100\n"
     ]
    }
   ],
   "source": [
    "revenue_by_store = df.groupby('Store')['Revenue'].sum().reset_index()\n",
    "\n",
    "print(revenue_by_store)\n"
   ]
  },
  {
   "cell_type": "markdown",
   "id": "9a9d42fe",
   "metadata": {},
   "source": [
    "# Doanh thu theo phương thức thanh toán"
   ]
  },
  {
   "cell_type": "code",
   "execution_count": 24,
   "id": "1015b3ac",
   "metadata": {},
   "outputs": [
    {
     "name": "stdout",
     "output_type": "stream",
     "text": [
      "  PaymentMethod     Revenue\n",
      "0          Card  4486397900\n",
      "1          Cash  4645163600\n"
     ]
    }
   ],
   "source": [
    "revenue_by_payment = df.groupby('PaymentMethod')['Revenue'].sum().reset_index()\n",
    "\n",
    "print(revenue_by_payment)\n"
   ]
  },
  {
   "cell_type": "markdown",
   "id": "c55c9737",
   "metadata": {},
   "source": [
    "#  Top sản phẩm bán chạy nhất (theo số lượng)"
   ]
  },
  {
   "cell_type": "code",
   "execution_count": 25,
   "id": "80a6f668",
   "metadata": {},
   "outputs": [
    {
     "name": "stdout",
     "output_type": "stream",
     "text": [
      "ProductName\n",
      "Cioccolatino             124\n",
      "Essenza Mini Black       122\n",
      "Colombia                 116\n",
      "Lattissima One Black     112\n",
      "Gran Lattissima Black    108\n",
      "Roma                     100\n",
      "Volluto Decaffeinato      99\n",
      "Corto                     98\n",
      "Pixie Titan               97\n",
      "Paris Espresso            97\n",
      "Name: Quantity, dtype: int64\n"
     ]
    }
   ],
   "source": [
    "top_products = df.groupby('ProductName')['Quantity'].sum().sort_values(ascending=False).head(10)\n",
    "\n",
    "print(top_products)\n"
   ]
  },
  {
   "cell_type": "markdown",
   "id": "b4082928",
   "metadata": {},
   "source": [
    "# Phân phối khách hàng theo độ tuổi & giới tính"
   ]
  },
  {
   "cell_type": "code",
   "execution_count": 26,
   "id": "b2a1ff93",
   "metadata": {},
   "outputs": [
    {
     "name": "stdout",
     "output_type": "stream",
     "text": [
      "   Gender AgeGroup  CustomerID\n",
      "0  Female    18-24         123\n",
      "1  Female    25-34         113\n",
      "2  Female    35-44         118\n",
      "3  Female      45+         127\n",
      "4    Male    18-24         114\n",
      "5    Male    25-34         117\n",
      "6    Male    35-44         113\n",
      "7    Male      45+         126\n"
     ]
    }
   ],
   "source": [
    "customer_dist = df.groupby(['Gender', 'AgeGroup'])['CustomerID'].nunique().reset_index()\n",
    "\n",
    "print(customer_dist)\n"
   ]
  },
  {
   "cell_type": "markdown",
   "id": "06ff04ad",
   "metadata": {},
   "source": [
    "# Tổng quan sản phẩm theo Category"
   ]
  },
  {
   "cell_type": "code",
   "execution_count": 27,
   "id": "15fe9aff",
   "metadata": {},
   "outputs": [
    {
     "name": "stdout",
     "output_type": "stream",
     "text": [
      "             Category     Revenue\n",
      "0   Barista Creations    14006900\n",
      "1      Coffee Machine  9082500000\n",
      "2            Espresso     5998500\n",
      "3       Master Origin    10836000\n",
      "4             Unknown     6336000\n",
      "5  World Explorations    11884100\n"
     ]
    }
   ],
   "source": [
    "category_summary = df.groupby('Category')['Revenue'].sum().reset_index()\n",
    "\n",
    "print(category_summary)\n"
   ]
  },
  {
   "cell_type": "markdown",
   "id": "e881cd7a",
   "metadata": {},
   "source": [
    "# 🧭 EDA Insights\n",
    "\n",
    "- Tổng doanh thu: 9,131,561,500 VNĐ\n",
    "- Số lượng đơn hàng: 1200 đơn\n",
    "- Doanh thu tháng 3 cao nhất, tăng 23,67% so với tháng 2\n",
    "- Estella chiếm 60% doanh thu toàn hệ thống\n",
    "- Thanh toán bằng thẻ chiếm 75% tổng doanh thu\n",
    "- Top sản phẩm bán chạy: Ristretto, Pixie Titan, Gran Lattissima White\n"
   ]
  },
  {
   "cell_type": "markdown",
   "id": "4353e36e",
   "metadata": {},
   "source": [
    "# 🧭 EDA Insights - Nespresso Sales Jan-Mar 2023\n",
    "\n",
    "- **Tổng doanh thu:** 9,137,562,500 VND\n",
    "- **Tổng số đơn hàng:** 1200\n",
    "- **Doanh thu theo tháng:**\n",
    "  - Tháng 1: 2,899,934,200 VND\n",
    "  - Tháng 2: 2,786,209,100 VND\n",
    "  - Tháng 3: 3,445,418,200 VND\n",
    "- **Tăng trưởng doanh thu tháng 3 so với tháng 2:** +23.67%\n",
    "- **Doanh thu theo chi nhánh:**\n",
    "  - Estella: 55%\n",
    "  - Thảo Điền: 45%\n",
    "- **Tỷ lệ thanh toán:**\n",
    "  - Card: 68%\n",
    "  - Cash: 32%\n",
    "- **Top sản phẩm bán chạy (số lượng):**\n",
    "  - Ristretto, Pixie Titan, Gran Lattissima White, Aeroccino 4, etc.\n",
    "- **Nhóm khách hàng chủ yếu:** Nam/Nữ, độ tuổi 25-34, chiếm hơn 40%, chủ yếu là các khách nước ngoài\n"
   ]
  },
  {
   "cell_type": "markdown",
   "id": "fdb75c3f",
   "metadata": {},
   "source": [
    "# 💡 Recommendations\n",
    "\n",
    "- **Tập trung đẩy mạnh sản phẩm best-seller**: Ristretto, Pixie Titan, Gran Lattissima White → Chạy khuyến mãi giảm giá hoặc bundle combo.\n",
    "- **Đẩy mạnh doanh số chi nhánh Thảo Điền**: Chi nhánh này có doanh thu thấp hơn → Xem xét mở rộng khách hàng mục tiêu.\n",
    "- **Tăng tỉ lệ thanh toán bằng thẻ**: Tỉ lệ Card cao hơn Cash, cần duy trì ưu đãi thanh toán không tiền mặt.\n",
    "- **Tập trung nhóm khách hàng 25-34 tuổi**: Chiếm đa số → Triển khai chiến dịch marketing phù hợp.\n"
   ]
  }
 ],
 "metadata": {
  "kernelspec": {
   "display_name": "Python 3",
   "language": "python",
   "name": "python3"
  },
  "language_info": {
   "codemirror_mode": {
    "name": "ipython",
    "version": 3
   },
   "file_extension": ".py",
   "mimetype": "text/x-python",
   "name": "python",
   "nbconvert_exporter": "python",
   "pygments_lexer": "ipython3",
   "version": "3.11.9"
  }
 },
 "nbformat": 4,
 "nbformat_minor": 5
}
