PROBLEM

In this project, I will delve deeper into the online retail sector, one of the rapidly developing industries, by analyzing a transactional dataset from a retailer with a branch in the UK, provided by the UCI Machine Learning Repository. This dataset records all transactions from 2010 to 2011.

My main goal is to increase the effectiveness of marketing strategies and boost sales through customer segmentation. I will transform the transactional data into a customer-focused dataset by creating new features to assist in grouping customers into distinct segments using the K-means clustering algorithm.

This segmentation will help me understand the characteristics and behaviors of each customer group. Based on these insights, I will develop a recommendation system that suggests best-selling products to customers in each segment who have not previously purchased those items, thereby enhancing marketing efficiency and driving sales growth.
*** Tiếng Việt ***
Trong dự án này, tôi sẽ đi sâu phân tích lĩnh vực bán lẻ trực tuyến – một trong những ngành đang phát triển nhanh chóng – thông qua bộ dữ liệu giao dịch từ một nhà bán lẻ có chi nhánh tại Vương quốc Anh, được cung cấp bởi UCI Machine Learning Repository. Bộ dữ liệu này ghi lại toàn bộ các giao dịch từ năm 2010 đến 2011.

Mục tiêu chính của tôi là nâng cao hiệu quả chiến lược tiếp thị và thúc đẩy doanh số thông qua phân khúc khách hàng. Tôi sẽ chuyển đổi dữ liệu giao dịch thành dữ liệu tập trung vào khách hàng bằng cách tạo ra các đặc trưng mới, từ đó hỗ trợ việc phân nhóm khách hàng thành các phân khúc riêng biệt bằng thuật toán phân cụm K-means.

Việc phân khúc này sẽ giúp tôi hiểu rõ đặc điểm và hành vi của từng nhóm khách hàng. Dựa trên những hiểu biết này, tôi sẽ phát triển một hệ thống gợi ý, đề xuất các sản phẩm bán chạy nhất cho những khách hàng trong từng phân khúc – những người chưa từng mua các sản phẩm đó – từ đó tăng cường hiệu quả tiếp thị và thúc đẩy tăng trưởng doanh số.
OBJECTIVES

-Data Cleaning & Transformation:
 Clean the dataset by handling missing values,duplicates, and outliers, preparing it for effective clustering.
-Feature Engineering:
 Develop new features based on the transactional data to create a customer-centric dataset, setting the foundation for customer segmentation.
-Data Preprocessing:
 Undertake feature scaling and dimensionality reduction to streamline the data, enhancing the efficiency of the clustering process.
-Customer Segmentation using K-Means Clustering:
 Segment customers into distinct groups using K-means, facilitating targeted marketing and personalized strategies.
Step 1 | Setup and Initialization
import kagglehub

# Download latest version
path = kagglehub.dataset_download("carrie1/ecommerce-data")

print("Path to dataset files:", path)
# Ignore warnings
import warnings
warnings.filterwarnings('ignore')

import numpy as np
import pandas as pd
import seaborn as sns
import matplotlib.pyplot as plt
import matplotlib.gridspec as gridspec
import plotly.graph_objects as go
from matplotlib.colors import LinearSegmentedColormap
from matplotlib import colors as mcolors
from scipy.stats import linregress
from sklearn.ensemble import IsolationForest
from sklearn.preprocessing import StandardScaler
from sklearn.decomposition import PCA
from yellowbrick.cluster import KElbowVisualizer, SilhouetteVisualizer
from sklearn.metrics import silhouette_score, calinski_harabasz_score, davies_bouldin_score
from sklearn.cluster import KMeans
from tabulate import tabulate
from collections import Counter

%matplotlib inline
# Initialize Plotly for use in the notebook
from plotly.offline import init_notebook_mode
init_notebook_mode(connected=True)
# Configure Seaborn plot styles: Set background color and use white
sns.set(rc={'axes.facecolor': '#fcf0dc'}, style='white')
Step 1.2 | Loading the Dataset
df = pd.read_csv(r"C:\Users\AORUS 15\Desktop\Project\Final Project -CoderSchool\data.csv", encoding="ISO-8859-1")

## Mô tả dữ liệu (Dataset Description)

| Biến         | Ý nghĩa chi tiết                                                                                   |
|--------------|----------------------------------------------------------------------------------------------------|
| InvoiceNo    | Mã hóa đơn cho mỗi giao dịch. Nếu bắt đầu bằng chữ C (ví dụ: C123456), đó là hóa đơn hủy           |
| StockCode    | Mã sản phẩm – định danh duy nhất cho từng loại sản phẩm                                            |
| Description  | Mô tả tên sản phẩm – có thể chứa lỗi chính tả hoặc bị thiếu nếu dữ liệu không sạch                  |
| Quantity     | Số lượng sản phẩm được mua trong giao dịch. Có thể âm nếu là hoàn trả                              |
| InvoiceDate  | Ngày giờ thực hiện giao dịch – dùng để phân tích theo thời gian, mùa vụ                            |
| UnitPrice    | Giá của một đơn vị sản phẩm (tính theo bảng Anh – GBP)                                              |
| CustomerID   | ID của khách hàng – giúp phân tích hành vi từng người, nhưng có thể bị thiếu (NaN)                 |
| Country      | Quốc gia của khách hàng – có thể dùng cho phân tích theo khu vực, thị trường                        |

Step 2 Initial Data Analysis
df.head(10)
df.info()
## Mô tả Dataset

Bộ dữ liệu này bao gồm **8 cột** và **541.909 dòng** dữ liệu.

| Cột          | Kiểu dữ liệu   | Mô tả chi tiết                                                                                                 |
|--------------|----------------|---------------------------------------------------------------------------------------------------------------|
| InvoiceNo    | object (chuỗi) | Số hóa đơn cho mỗi giao dịch. Một hóa đơn có thể chứa nhiều sản phẩm khác nhau.                               |
| StockCode    | object (chuỗi) | Mã sản phẩm của từng mặt hàng.                                                                                |
| Description  | object (chuỗi) | Mô tả sản phẩm. Có giá trị thiếu: chỉ có **540.455** dòng hợp lệ trên **541.909** dòng.                       |
| Quantity     | int            | Số lượng mặt hàng được mua trong mỗi giao dịch.                                                               |
| InvoiceDate  | datetime       | Ngày giờ thực hiện giao dịch.                                                                                 |
| UnitPrice    | float          | Đơn giá của từng sản phẩm.                                                                                    |
| CustomerID   | float          | Mã định danh khách hàng. Có nhiều giá trị bị thiếu: chỉ có **406.829** dòng hợp lệ trên **541.909** dòng.    |
| Country      | object (chuỗi) | Quốc gia nơi diễn ra mỗi giao dịch.                                                                            |

---

### Nhận định ban đầu:

- Có **giá trị thiếu** trong cột **Description** và **CustomerID**, cần được xử lý khi làm sạch dữ liệu.
- Cột **InvoiceDate** đã ở định dạng `datetime`, thuận tiện cho phân tích chuỗi thời gian.
- Một khách hàng có thể có nhiều giao dịch khác nhau, được xác định bằng việc lặp lại **CustomerID** trong nhiều dòng.

I will go deeper to understand insight of dataset
df.describe().T
df.describe(include='object').T
## Kết luận Phân tích Sơ bộ (Preliminary Data Analysis)

### Quantity
- Trung bình: **9.55** sản phẩm/giao dịch.
- Có giá trị âm (trả hàng, hoàn đơn) – cần xử lý.
- Khoảng giá trị: **-80,995** đến **80,995**.
- Dữ liệu phân tán mạnh (standard deviation lớn), có outliers → cần xử lý.
  
---

### UnitPrice
- Trung bình: **4.61** GBP/sản phẩm.
- Có giá trị âm và rất cao (từ **-11,062.06** đến **38,970**) → nghi ngờ lỗi nhập liệu → cần kiểm tra.
- Phân phối lệch, có outliers lớn.

---

### CustomerID
- Có **406,829** dòng hợp lệ trên **541,909** → nhiều giá trị thiếu → cần xử lý.
- Khoảng giá trị ID: **12,346** đến **18,287**.
- Dùng để phân tích hành vi khách hàng.

---

### InvoiceNo
- Có **25,900** mã hóa đơn khác nhau → đại diện cho **25,900 giao dịch**.
- Mã hóa đơn xuất hiện nhiều nhất: **573585** (lặp lại **1,114** lần) → khả năng là đơn hàng lớn hoặc nhiều mặt hàng trong 1 giao dịch.

---

### StockCode
- Có **4,070** mã sản phẩm khác nhau.
- Mã sản phẩm phổ biến nhất: **85123A** (xuất hiện **2,313** lần).

---

### Description
- Có **4,223** mô tả sản phẩm khác nhau.
- Mô tả phổ biến nhất: **"WHITE HANGING HEART T-LIGHT HOLDER"** (xuất hiện **2,369** lần).
- Có một số giá trị thiếu → cần xử lý khi làm sạch dữ liệu.

---

### Country
- Gồm **38** quốc gia.
- ~**91.4%** giao dịch đến từ **United Kingdom** → thị trường chính.

---

👉 **Tóm lại:**
- Cần làm sạch dữ liệu: loại bỏ/điều chỉnh giá trị âm, xử lý missing values.
- Cẩn thận với outliers ở cột **Quantity** và **UnitPrice**.
- Khai thác thêm phân tích theo **quốc gia**, **khách hàng**, **mã hóa đơn**.

Step 3 | Data Cleaning & Transformation
#Handling Missing Values
#tính % của missing values cho mỗi cột
missing_values = df.isnull().sum()
percentage_missing = (missing_values[missing_values>0]/df.shape[0])*100
#sort values
percentage_missing.sort_values(ascending = True , inplace = True)
#vẽ chart để dễ nhìn có bao nhiêu % missing value
fig, ax = plt.subplots(figsize=(15, 4))
ax.barh(percentage_missing.index, percentage_missing, color='#ff6200')
#hiển thị các giá trị và chỉ số
for i, (value, name) in enumerate(zip(percentage_missing, percentage_missing.index)):
    ax.text(value + 0.2, i, f"{value:.1f}%", ha='left', va='center', fontweight='black', fontsize=18, color='red')
#set limit
ax.set_xlim([0, 40])

#add title cho chart
plt.title("% Missing Values", fontweight='bold', fontsize=22)
plt.xlabel('Percentages (%)', fontsize=16)
plt.show()
## Chiến lược Xử lý Giá trị Thiếu (Handling Missing Values Strategy)

### *CustomerID* (thiếu ~24.9%)
- Cột **CustomerID** rất quan trọng, đặc biệt cho phân tích phân khúc khách hàng (**customer segmentation**).  
- Tuy nhiên, có đến **24.9% giá trị bị thiếu** → Không thể xóa bỏ hoàn toàn cột này, vì sẽ mất dữ liệu quan trọng.
- Cần áp dụng chiến lược xử lý phù hợp để điền giá trị thiếu (ví dụ: gán ID tạm thời, hoặc phân tích riêng các giao dịch không có CustomerID).

---

### *Description* (thiếu ~0.3%)
- Cột **Description** có tỷ lệ thiếu thấp (**0.3%**), nhưng vẫn cần xử lý để đảm bảo dữ liệu hoàn chỉnh.
- Đặc biệt, phát hiện **sự không nhất quán giữa StockCode và Description**:  
  - Cùng một StockCode, nhưng Description khác nhau → Đây là vấn đề chất lượng dữ liệu cần xử lý (ví dụ: kiểm tra/chuẩn hóa tên sản phẩm).
- Cần rà soát và chuẩn hóa cột **Description** để đảm bảo tính nhất quán.

---

👉 **Tóm lại:**
- *CustomerID* cần xử lý giá trị thiếu thay vì xóa bỏ.
- *Description* cần xử lý thiếu giá trị và kiểm tra/chuẩn hóa nội dung để tránh sai sót trong phân tích.

#Trích xuất những dữ liệu bị thiếu CustomerID hoặc Description
df[df['CustomerID'].isnull() | df['Description'].isnull()].head()
#Xóa những dữ liệu của CustomerID và Description
df = df.dropna(subset=['CustomerID', 'Description'])
#Kiểm tra
df.isnull().sum().sum()

Step 3.2 Handling Duplicates
# tìm các value duplicate
duplicate_rows = df[df.duplicated(keep=False)]

# sắp xếp lại data
duplicate_rows_sorted = duplicate_rows.sort_values(by=['InvoiceNo', 'StockCode', 'Description', 'CustomerID', 'Quantity'])

duplicate_rows_sorted.head(10)
df.duplicated().sum()
#xóa trực tiếp value duplicates trên df k cần gán lại
df.drop_duplicates(inplace=True)
#đếm số dòng sau khi xóa
df.shape[0]
Step 3.3 | Treating Cancelled Transactions
## Phân tích Giao dịch Bị Hủy (Cancelled Transactions Analysis)

Để hiểu rõ hơn về **hành vi và sở thích của khách hàng**, chúng ta cần xem xét đến các **giao dịch đã bị hủy**.

- **Bước 1**: Xác định các giao dịch bị hủy bằng cách lọc những dòng mà cột **InvoiceNo** bắt đầu bằng chữ **"C"**.
- **Bước 2**: Phân tích các giao dịch bị hủy để tìm ra **các đặc điểm hoặc xu hướng chung**.

👉 Việc phân tích này giúp khám phá các **mẫu hành vi phổ biến** hoặc **lý do tiềm ẩn dẫn đến việc hủy đơn**, từ đó giúp cải thiện **trải nghiệm khách hàng** và **quản lý rủi ro** tốt hơn.

df['Transaction_Status'] = np.where(df['InvoiceNo'].astype(str).str.startswith('C'), 'Cancelled', 'Completed')

# Analyze the characteristics of these rows (considering the new column)
cancelled_transactions = df[df['Transaction_Status'] == 'Cancelled']
cancelled_transactions.describe().drop('CustomerID', axis=1).round(2)
## Thống kê Giao dịch Bị Hủy (Cancelled Transactions Statistics)

| Thông số         | Quantity (Số lượng trả)            | UnitPrice (Đơn giá sản phẩm)             |
|------------------|-----------------------------------|------------------------------------------|
| **Số dòng**      | 8,872 giao dịch                   | 8,872 sản phẩm                           |
| **Trung bình**   | -30.77 sản phẩm                   | £18.90                                   |
| **Độ lệch chuẩn** | 1,172.25 (phân tán lớn)           | 445.19 (nhiều sản phẩm giá cao)          |
| **Giá trị nhỏ nhất** | -80,995 sản phẩm                 | £0.01 (rất rẻ)                            |
| **25% thấp nhất** | -6 sản phẩm                       | £1.45                                    |
| **Trung vị (50%)** | -2 sản phẩm                       | £2.95                                    |
| **75% cao nhất** | -1 sản phẩm                       | £4.95                                    |
| **Lớn nhất**     | -1 sản phẩm                       | £38,970 (rất đắt)                         |

---

👉 **Nhận xét nhanh:**
- Cột **Quantity** có giá trị âm lớn (đặc trưng của giao dịch hoàn trả), phân tán mạnh.
- **UnitPrice** có khoảng giá rất rộng, từ giá rất rẻ (**£0.01**) đến rất cao (**£38,970**), cần xem xét các sản phẩm có giá bất thường.


## Nhận xét về Giao dịch Bị Hủy

- Tất cả các giá trị **Quantity** trong các giao dịch bị hủy đều là **số âm**, cho thấy đây thực sự là các **đơn hàng đã bị hủy hoặc hoàn trả**.

- Cột **UnitPrice** có **mức độ phân tán lớn**, cho thấy rằng các giao dịch bị hủy bao gồm **nhiều loại sản phẩm** — từ **giá thấp** đến **giá cao**.

## Chiến lược Xử lý Các Giao dịch Bị Hủy

Xét đến mục tiêu của dự án là **phân cụm khách hàng** dựa trên **hành vi và sở thích mua sắm**, đồng thời tiến tới xây dựng **hệ thống gợi ý sản phẩm**, việc **hiểu rõ xu hướng hủy đơn hàng** của khách hàng là **rất quan trọng**.

Do đó, **chiến lược** sẽ là:
- **Giữ lại** các giao dịch bị hủy trong tập dữ liệu.
- **Đánh dấu riêng biệt** các giao dịch này để phục vụ cho các phân tích sau này.

---

### Lợi ích của chiến lược:

- **Cải thiện quá trình phân cụm khách hàng**:  
  Nhờ đưa vào các xu hướng và mô hình xuất hiện trong dữ liệu hủy đơn, giúp phát hiện các **hành vi đặc trưng** của khách hàng.

- **Nâng cao chất lượng hệ thống gợi ý sản phẩm**:  
  Hệ thống có thể **tránh đề xuất các sản phẩm dễ bị hủy**, từ đó nâng cao độ chính xác và giá trị của các gợi ý dành cho khách hàng.

cancelled_percentage = (cancelled_transactions.shape[0] / df.shape[0]) * 100

# Printing the percentage of cancelled transactions
print(f"The percentage of cancelled transactions in the dataset is: {cancelled_percentage:.2f}%")
# tìm kiếm giá trị duy nhất của Stockcode
unique_stock_codes = df['StockCode'].nunique()

print(f"The number of unique stock codes in the dataset is: {unique_stock_codes}")
# Tìm 10 mã sản phẩm (StockCode) xuất hiện nhiều nhất
top_10_stock_codes = df['StockCode'].value_counts(normalize=True).head(10) * 100

# Vẽ biểu đồ ngang (bar chart) cho 10 mã sản phẩm xuất hiện nhiều nhất
plt.figure(figsize=(12, 5))
top_10_stock_codes.plot(kind='barh', color='orange')

# Thêm nhãn phần trăm tần suất trên các thanh biểu đồ
for index, value in enumerate(top_10_stock_codes):
    plt.text(value, index+0.2, f'{value:.2f}%', fontsize=10)

plt.title('Top 10 Mã Sản Phẩm Xuất Hiện Nhiều Nhất')
plt.xlabel('Tần Suất (%)')
plt.ylabel('Mã Sản Phẩm')
plt.gca().invert_yaxis()
plt.show()
## Phân tích Dữ liệu Sản phẩm

- Dataset chứa **3,684 mã sản phẩm duy nhất**, cho thấy cửa hàng bán lẻ này có **danh mục sản phẩm đa dạng**.  
  Điều này giúp **việc phân cụm khách hàng trở nên đa dạng và chi tiết hơn**, vì mỗi nhóm khách hàng thường có xu hướng yêu thích những loại sản phẩm riêng.

---

- Biểu đồ cho thấy **10 sản phẩm được mua nhiều nhất**, đại diện cho những **mã sản phẩm phổ biến** – tức là những sản phẩm mà khách hàng thường xuyên mua nhất.  
  Đây là **các sản phẩm cốt lõi** giúp phân loại hành vi mua sắm của khách hàng.

---

- Tuy nhiên, phần lớn các mã sản phẩm có từ **5 đến 6 ký tự**, nhưng tồn tại một số **ngoại lệ** như mã **'POST'**.  
  Những mã này **có thể đại diện cho dịch vụ** hoặc các giao dịch không phải sản phẩm (ví dụ: **phí vận chuyển**).

---

### Đề xuất xử lý:
- Để **giữ đúng trọng tâm của dự án** là **phân cụm khách hàng dựa trên sản phẩm đã mua** và **xây dựng hệ thống gợi ý sản phẩm**, cần:
  - **Kiểm tra và xử lý** các mã bất thường như `'POST'` để đảm bảo **tính toàn vẹn của dữ liệu**.
  - Xem xét **loại bỏ** hoặc **gắn nhãn riêng** các mã này để tránh ảnh hưởng tới kết quả phân cụm và đề xuất.

To delve deeper into identifying these anomalies, let's explore the frequency of the number of numeric characters in the stock codes, which can provide insights into the nature of these unusual entries:
# Tìm số lượng ký tự số trong mỗi mã sản phẩm duy nhất (StockCode)
unique_stock_codes = df['StockCode'].unique()
numeric_char_counts_in_unique_codes = pd.Series(unique_stock_codes).apply(lambda x: sum(c.isdigit() for c in str(x))).value_counts()

print("Value counts of numeric character frequencies in unique stock codes:")
print("*-*"*22)
print(numeric_char_counts_in_unique_codes)
## Phân tích Định dạng Mã Sản phẩm

- **Phần lớn** các mã sản phẩm duy nhất (**3,676 trên 3,684**) có **chính xác 5 ký tự số**.  
  Đây dường như là **định dạng tiêu chuẩn** để biểu diễn mã sản phẩm trong tập dữ liệu này.

---

### Những ngoại lệ cần chú ý:
- **7 mã** không chứa **bất kỳ ký tự số nào**.
- **1 mã** chỉ chứa **duy nhất 1 ký tự số**.

---

👉 Những mã này **lệch khỏi định dạng chuẩn** và cần được kiểm tra kỹ lưỡng để:
- Hiểu rõ bản chất thực sự của chúng.
- Xác định xem đây có phải là **giao dịch sản phẩm hợp lệ** hay không, hay chỉ là **dịch vụ, phí, hoặc lỗi dữ liệu**.

---

### Tiếp theo:
- Xác định danh sách các mã sản phẩm có **0 hoặc 1 ký tự số** để phân tích chi tiết hơn.

# Tìm và in ra các mã sản phẩm có 0 hoặc 1 ký tự số
anomalous_stock_codes = [code for code in unique_stock_codes if sum(c.isdigit() for c in str(code)) in (0, 1)]

print("Anomalous stock codes:")
print("-"*22)
for code in anomalous_stock_codes:
    print(code)
Let's calculate the percentage of records with these anomalous stock codes:
# Calculating the percentage of records with these stock codes
percentage_anomalous = (df['StockCode'].isin(anomalous_stock_codes).sum() / len(df)) * 100

# Printing the percentage
print(f"The percentage of records with anomalous stock codes in the dataset is: {percentage_anomalous:.2f}%")
## Kết luận

Dựa trên phân tích, ta nhận thấy:

- Chỉ một **tỷ lệ rất nhỏ** của các bản ghi (**0.48%**) có mã sản phẩm **bất thường** – tức là những mã **không tuân theo định dạng chuẩn** được quan sát trong phần lớn dữ liệu.
- Cụ thể, các mã bất thường này chỉ chiếm **8 trên tổng số 3,684 mã sản phẩm duy nhất**.

---

### Đặc điểm của các mã bất thường:
- Dường như **không đại diện cho sản phẩm thực tế**.
- Có thể là các giao dịch phụ trợ như:
  - `"BANK CHARGES"` (phí ngân hàng)
  - `"POST"` (có thể là **phí vận chuyển**), v.v.

---

### Khuyến nghị:
- Vì các mã này **không phải sản phẩm thực** và chỉ chiếm **tỷ lệ rất nhỏ** trong toàn bộ dữ liệu, việc **giữ lại** trong phân tích có thể:
  - Gây nhiễu cho dữ liệu.
  - Làm **sai lệch kết quả phân cụm** khách hàng hoặc **làm giảm độ chính xác của hệ thống gợi ý**.

➡️ **Nên loại bỏ hoặc gắn nhãn riêng** các mã này để đảm bảo tính chính xác và chất lượng của phân tích.

## Chiến lược Xử lý Các Mã Sản phẩm Bất Thường

Xét trong **bối cảnh của dự án**, với mục tiêu là **phân cụm khách hàng dựa trên hành vi mua sản phẩm** và **xây dựng hệ thống gợi ý sản phẩm**, thì việc **loại bỏ các bản ghi có mã sản phẩm bất thường** là một lựa chọn **hợp lý và cần thiết**.

---

### Lý do:
- Giúp quá trình phân tích **tập trung hoàn toàn vào các giao dịch sản phẩm thực tế**.
- Loại bỏ các giao dịch không liên quan như:
  - `"POST"` (phí vận chuyển)
  - `"BANK CHARGES"` (phí ngân hàng)
  - Và các mã không tuân theo định dạng chuẩn.
- Đảm bảo kết quả phân tích và mô hình được xây dựng **chính xác, ý nghĩa và phản ánh đúng hành vi khách hàng**.

---

### Chiến lược thực hiện:
👉 **Lọc và loại bỏ** khỏi tập dữ liệu các dòng có **mã sản phẩm bất thường** trước khi thực hiện các bước phân tích sâu hơn và xây dựng mô hình.

---

Nếu bạn muốn mình viết **code Python mẫu** để thực hiện bước lọc này, hãy cho mình biết nhé! 🚀

# Loại bỏ những mã khác thường
df = df[~df['StockCode'].isin(anomalous_stock_codes)]
# Lấy số dòng trong dataframe
df.shape[0]
Step 3.5 | Cleaning Description Column
## Kế hoạch Phân tích Mô tả Sản phẩm (Description)

Trước tiên, tôi sẽ **tính số lần xuất hiện** của từng **mô tả sản phẩm (Description)** trong tập dữ liệu.

Sau đó, tôi sẽ **vẽ biểu đồ** cho **30 mô tả xuất hiện nhiều nhất**.

Biểu đồ này sẽ giúp **trực quan hóa rõ ràng** các **mô tả sản phẩm phổ biến nhất** trong tập dữ liệu.

# Calculate the occurrence of each unique description and sort them
description_counts = df['Description'].value_counts()

# Get the top 30 descriptions
top_30_descriptions = description_counts[:30]

# Plotting
plt.figure(figsize=(12,8))
plt.barh(top_30_descriptions.index[::-1], top_30_descriptions.values[::-1], color='#ff6200')

# Adding labels and title
plt.xlabel('Number of Occurrences')
plt.ylabel('Description')
plt.title('Top 30 Most Frequent Descriptions')

# Show the plot
plt.show()
## Nhận xét về Cột Mô tả Sản phẩm (Descriptions)

- Các mô tả xuất hiện nhiều nhất **chủ yếu là đồ gia dụng**, đặc biệt là các sản phẩm liên quan đến:
  - **Dụng cụ nhà bếp**
  - **Túi đựng cơm trưa**
  - **Đồ trang trí**

---

- **Đáng chú ý**, tất cả các mô tả đều được **viết hoa (UPPERCASE)** — điều này có thể là **quy chuẩn định dạng** khi nhập dữ liệu vào cơ sở dữ liệu.

---

- Tuy nhiên, **xét đến những bất thường và thiếu nhất quán đã gặp trong tập dữ liệu**, cần thực hiện kiểm tra kỹ hơn để xác định:
  - Liệu có tồn tại mô tả nào được nhập bằng **chữ thường (lowercase)** hoặc **pha trộn giữa chữ hoa và chữ thường** hay không.
  - Nếu có, cần xử lý đồng nhất để đảm bảo **tính nhất quán dữ liệu** cho phân tích sau này.

# Lấy các mô tả duy nhất trong cột 'Description'
unique_descriptions = df['Description'].dropna().unique()

# Lọc các mô tả chứa ít nhất một ký tự thường (lowercase)
lowercase_descriptions = [desc for desc in unique_descriptions if any(char.islower() for char in desc)]

# In các mô tả bất thường
print("⚠️ Các mô tả chứa ký tự thường (không viết hoa hoàn toàn):")
print("-" * 60)
for desc in lowercase_descriptions:
    print(desc)

# Lọc toàn bộ các dòng trong df có mô tả thuộc danh sách này
rows_with_lowercase = df[df['Description'].isin(lowercase_descriptions)]

# Thống kê
print(f"\n🧾 Tổng số dòng dữ liệu có mô tả viết không hoàn toàn hoa: {rows_with_lowercase.shape[0]}")
print("\n📋 Một số ví dụ:")
print(rows_with_lowercase[['InvoiceNo', 'StockCode', 'Description']].drop_duplicates().head(10))

## Nhận định:

Sau khi xem xét các mô tả sản phẩm có chứa **chữ thường**, có thể thấy rằng **một số mục không phải là mô tả sản phẩm thực tế**, ví dụ như:
- `"Next Day Carriage"`
- `"High Resolution Image"`

Những mục này dường như liên quan đến **dịch vụ** hoặc **thông tin phụ trợ**, **không phải là sản phẩm để bán**.

👉 Do đó, cần lưu ý **lọc bỏ hoặc gắn nhãn riêng** các mô tả này khi thực hiện phân tích sản phẩm và phân cụm khách hàng.

## Chiến lược Xử lý Dữ liệu Cột Mô tả Sản phẩm (Description)

### Bước 1:
- **Loại bỏ** các dòng mà mô tả chứa **thông tin dịch vụ** như:
  - `"Next Day Carriage"`
  - `"High Resolution Image"`
- Lý do: Đây **không phải sản phẩm thực tế** và **không đóng góp giá trị** cho quá trình phân cụm hoặc hệ thống gợi ý mà chúng ta đang xây dựng.

---

### Bước 2:
- Với các mô tả còn lại có **chữ thường** hoặc **kiểu chữ pha trộn**, tiến hành **chuẩn hóa tất cả về dạng chữ in hoa (UPPERCASE)** để:
  - Đảm bảo **sự đồng nhất trong dữ liệu**.
  - **Giảm khả năng trùng lặp mô tả** do khác biệt kiểu chữ.

---

### Lợi ích:
Việc thực hiện chiến lược trên sẽ giúp:
✅ Nâng cao **chất lượng tập dữ liệu**.  
✅ Làm cho dữ liệu **phù hợp hơn** cho giai đoạn phân tích và xây dựng mô hình của dự án.

# Danh sách mô tả không phải sản phẩm (dịch vụ)
service_related_descriptions = ["Next Day Carriage", "High Resolution Image"]

# Tính % dòng chứa mô tả dịch vụ
service_related_percentage = (
    df[df['Description'].isin(service_related_descriptions)].shape[0]
    / df.shape[0]
) * 100

# In phần trăm trước khi xử lý
print(f"The percentage of records with service-related descriptions in the dataset is: {service_related_percentage:.2f}%")

# Xoá các dòng có mô tả dịch vụ
df = df[~df['Description'].isin(service_related_descriptions)]

# Chuẩn hóa mô tả còn lại về viết hoa
df['Description'] = df['Description'].str.upper()

df.shape[0]
Step 3.6 | Treating Zero Unit Prices
df['UnitPrice'].describe()
## Nhận định:

- **Giá trị nhỏ nhất của cột UnitPrice là 0**.  
  Điều này cho thấy có một số giao dịch có **đơn giá bằng 0**, có thể là:
  - **Sản phẩm được tặng miễn phí**.
  - **Lỗi nhập liệu**.

---

### Kế hoạch phân tích tiếp theo:
- Để hiểu rõ hơn về **bản chất của các giao dịch 0 đồng**, cần thực hiện:
  - Phân tích chi tiết **các dòng có UnitPrice bằng 0**.
  - Xem xét **mô tả sản phẩm (Description)** tương ứng để phát hiện xem có tuân theo một **mẫu (pattern) cụ thể** nào không.

---

👉 Việc này sẽ giúp quyết định:
- Liệu có nên loại bỏ các dòng này khỏi phân tích.
- Hay cần xử lý/đánh dấu theo một cách đặc biệt trước khi phân cụm và xây dựng hệ thống gợi ý.

df[df['UnitPrice']==0].describe()[['Quantity']]
## Nhận định về Cột UnitPrice

- **Số lượng giao dịch có đơn giá bằng 0** là khá ít: chỉ **33 giao dịch**.

- Tuy nhiên, những giao dịch này có **mức độ biến động lớn về số lượng sản phẩm**, cụ thể:
  - Dao động từ **1** đến **12,540** sản phẩm.
  - Độ lệch chuẩn rất cao, cho thấy mức độ phân tán mạnh.

---

### Tác động tiềm ẩn:
- Việc **giữ lại các giao dịch này trong quá trình phân cụm (clustering)** có thể:
  - **Gây nhiễu dữ liệu**.
  - Làm **sai lệch kết quả nhận diện hành vi khách hàng** mà thuật toán phân cụm tạo ra.

---

👉 Cần cân nhắc kỹ việc **loại bỏ hoặc xử lý riêng biệt** các giao dịch có đơn giá bằng 0 để đảm bảo **chất lượng phân tích và độ chính xác của mô hình**.

## Chiến lược Xử lý Giao dịch Đơn Giá 0

Xét thấy:
- **Số lượng các giao dịch này rất nhỏ** (chỉ 33 giao dịch).
- **Có khả năng gây nhiễu dữ liệu** và ảnh hưởng đến quá trình phân tích.

👉 **Chiến lược hợp lý** là **loại bỏ những giao dịch này khỏi tập dữ liệu**.

---

### Lợi ích:
- Giúp duy trì một **tập dữ liệu sạch và nhất quán hơn**.
- Đảm bảo dữ liệu đầu vào phù hợp cho việc xây dựng:
  - **Mô hình phân cụm khách hàng (Clustering)**.
  - **Hệ thống gợi ý sản phẩm (Recommendation System)**.
- Tăng độ **chính xác** và **đáng tin cậy** của các kết quả phân tích và mô hình.

---

✅ Đây là một bước **tiền xử lý cần thiết** để loại bỏ nhiễu và đảm bảo chất lượng dữ liệu đầu vào cho dự án.

# Xóa các bản ghi có đơn giá bằng 0 để tránh lỗi nhập liệu tiềm ẩn.
df = df[df['UnitPrice'] > 0]
Step 3.7 | Outlier Treatment
## Nhận định về Việc Xử Lý Outlier trong Phân Cụm K-means

Trong phân cụm **K-means**, thuật toán rất nhạy cảm với:
- **Quy mô dữ liệu** (scale).
- Sự hiện diện của **giá trị ngoại lai (outliers)**.

Những yếu tố này có thể ảnh hưởng đáng kể đến **vị trí các tâm cụm (centroids)**, từ đó dẫn đến việc **phân cụm sai lệch**.

---

### Tuy nhiên, trong bối cảnh dự án này:
- Mục tiêu cuối cùng là **hiểu hành vi và sở thích của khách hàng** thông qua **K-means**.
- Vì vậy, việc xử lý **outlier** nên được thực hiện **sau giai đoạn xây dựng đặc trưng (feature engineering)**, khi dữ liệu đã được tổng hợp theo **khách hàng**.
- Ở giai đoạn hiện tại, dữ liệu vẫn ở **cấp độ giao dịch**.
- Việc loại bỏ **outlier quá sớm** có thể khiến ta mất đi **những thông tin quan trọng**, vốn có thể đóng vai trò **then chốt trong phân khúc khách hàng** về sau.

---

👉 **Kết luận:**
- **Hoãn xử lý outlier** ở giai đoạn này.
- Tiếp tục chuyển sang bước tiếp theo trong quá trình xử lý dữ liệu.

---

🎯 Khi hoàn tất **feature engineering** và có dataset **theo khách hàng**, chúng ta sẽ quay lại xử lý outlier để đảm bảo **tính chính xác của phân cụm**.

# Đặt lại chỉ số dòng cho tập dữ liệu đã làm sạch
df.reset_index(drop=True, inplace=True)
# Lấy số lượng dòng trong DataFrame
df.shape[0]

Step 4 | Feature Engineering
In order to create a comprehensive customer-centric dataset for clustering and recommendation, the following features can be engineered from the available data:
Step 4.1 | RFM Features
## Giới thiệu về RFM

**RFM** là một phương pháp được sử dụng để **phân tích giá trị khách hàng** và **phân khúc tập khách hàng**.  
Tên gọi **"RFM"** là viết tắt của ba yếu tố chính:

---

### 🔹 Recency (R) – Gần đây nhất:
- Chỉ ra **khách hàng đã mua hàng gần đây đến mức nào**.
- **Giá trị R càng thấp** → khách hàng mua hàng càng gần đây → thể hiện **mức độ tương tác cao** với thương hiệu.

---

### 🔹 Frequency (F) – Tần suất mua hàng:
- Cho biết **khách hàng mua hàng bao nhiêu lần** trong một khoảng thời gian nhất định.
- **Tần suất càng cao** → khách hàng càng thường xuyên quay lại → thể hiện **sự trung thành hoặc mức độ hài lòng cao**.

---

### 🔹 Monetary (M) – Giá trị tiền chi tiêu:
- Là **tổng số tiền khách hàng đã chi tiêu** trong một khoảng thời gian.
- **Giá trị M càng cao** → khách hàng đóng góp doanh thu lớn hơn → tiềm năng trở thành **khách hàng có giá trị cao** trong dài hạn.

---

### ✅ Ý nghĩa:
Khi **kết hợp ba chỉ số này**, bạn có thể:
- Hiểu rõ **hành vi và giá trị của khách hàng**.
- Cá nhân hóa **chiến lược marketing**.
- Xây dựng **hệ thống gợi ý sản phẩm** phù hợp và hiệu quả hơn.

Step 4.1.1 | Recency (R)
## Phân tích Mức Độ Gần Đây trong Hành Vi Mua Hàng

Trong bước này, chúng ta sẽ tập trung vào việc **hiểu mức độ gần đây** mà khách hàng đã thực hiện giao dịch mua hàng.  
Đây là một yếu tố quan trọng trong việc **phân khúc khách hàng**, vì nó giúp xác định **mức độ tương tác của khách hàng với doanh nghiệp**.

---

### 🏷 Days Since Last Purchase (Số ngày kể từ lần mua hàng gần nhất):
- Thể hiện **số ngày đã trôi qua** kể từ **lần mua hàng cuối cùng** của khách hàng.
- **Giá trị thấp** → khách hàng vừa mua hàng gần đây → phản ánh **mức độ tương tác cao**.
- **Giá trị cao** → dấu hiệu của **sự ngừng tương tác** hoặc **mức độ quan tâm giảm sút**.

---

### ✅ Ý nghĩa:
Hiểu rõ tính **"gần đây"** trong hành vi mua hàng giúp doanh nghiệp:
- **Tùy chỉnh chiến lược marketing**, đặc biệt là:
  - **Tái tương tác với các khách hàng đã lâu không mua hàng**.
- **Tăng tỷ lệ giữ chân khách hàng**.
- **Xây dựng lòng trung thành** bền vững hơn.
# Chuyển cột InvoiceDate sang kiểu dữ liệu datetime
df['InvoiceDate'] = pd.to_datetime(df['InvoiceDate'])

# Trích xuất phần ngày (bỏ giờ) từ InvoiceDate và lưu vào cột mới InvoiceDay
df['InvoiceDay'] = df['InvoiceDate'].dt.date

# Tìm ngày mua hàng gần nhất của mỗi khách hàng
customer_data = df.groupby('CustomerID')['InvoiceDay'].max().reset_index()

# Tìm ngày giao dịch gần nhất trong toàn bộ tập dữ liệu
most_recent_date = df['InvoiceDay'].max()

# Chuyển cột InvoiceDay về kiểu datetime trước khi thực hiện phép trừ
customer_data['InvoiceDay'] = pd.to_datetime(customer_data['InvoiceDay'])
most_recent_date = pd.to_datetime(most_recent_date)

# Tính số ngày kể từ lần mua hàng gần nhất của mỗi khách hàng
customer_data['Days_Since_Last_Purchase'] = (most_recent_date - customer_data['InvoiceDay']).dt.days

# Xoá cột InvoiceDay vì đã tính xong Recency
customer_data.drop(columns=['InvoiceDay'], inplace=True)

customer_data.head()
Tôi đã đặt tên cho dataframe tập trung vào khách hàng là **`customer_data`**, mà cuối cùng sẽ chứa tất cả các **đặc điểm dựa trên khách hàng** mà chúng tôi dự định tạo ra.

Step 4.1.2 | Frequency (F)
## Tạo Đặc Trưng Định Lượng Mức Độ Tương Tác Khách Hàng

Trong bước này, tôi sẽ tạo ra **hai đặc trưng** nhằm **định lượng mức độ tương tác của khách hàng** với nhà bán lẻ:

---

### 🔹 Tổng số giao dịch (Total Transactions):
- Thể hiện **tổng số lần giao dịch** mà một khách hàng đã thực hiện.
- Giúp đánh giá **mức độ tương tác** của khách hàng với doanh nghiệp.

---

### 🔹 Tổng số sản phẩm đã mua (Total Products Purchased):
- Cho biết **tổng số lượng sản phẩm** (tổng **Quantity**) mà khách hàng đã mua qua **tất cả các giao dịch**.
- Phản ánh **hành vi mua sắm** của khách hàng về mặt **khối lượng sản phẩm**.

---

### ✅ Ý nghĩa:
Hai đặc trưng này sẽ đóng vai trò **quan trọng** trong việc:
- **Phân khúc khách hàng** dựa trên **tần suất mua hàng**.
- Là **yếu tố then chốt** để xây dựng:
  - **Chiến dịch marketing nhắm mục tiêu**.
  - **Hệ thống gợi ý sản phẩm cá nhân hóa**.

# Tính tổng số giao dịch mà mỗi khách hàng đã thực hiện
total_transactions = df.groupby('CustomerID')['InvoiceNo'].nunique().reset_index()
total_transactions.rename(columns={'InvoiceNo': 'Total_Transactions'}, inplace=True)

# Tính tổng số lượng sản phẩm mà mỗi khách hàng đã mua
total_products_purchased = df.groupby('CustomerID')['Quantity'].sum().reset_index()
total_products_purchased.rename(columns={'Quantity': 'Total_Products_Purchased'}, inplace=True)

# Gộp (merge) các đặc trưng mới vào bảng customer_data theo CustomerID
customer_data = pd.merge(customer_data, total_transactions, on='CustomerID')
customer_data = pd.merge(customer_data, total_products_purchased, on='CustomerID')

# Hiển thị vài dòng đầu tiên của bảng customer_data sau khi cập nhật
customer_data.head()

Step 4.1.3 | Monetary (M)  
## Tạo Đặc Trưng Phản Ánh Khía Cạnh Chi Tiêu (Monetary)

Trong bước này, tôi sẽ tạo ra **hai đặc trưng** phản ánh **khía cạnh chi tiêu** của các giao dịch của khách hàng:

---

### 🔹 Tổng chi tiêu (Total Spend):
- Biểu thị **tổng số tiền mà mỗi khách hàng đã chi tiêu**.
- Được tính bằng **tổng của (UnitPrice × Quantity)** trên **tất cả các giao dịch** của khách hàng.
- Đây là một đặc trưng **quan trọng**, vì nó giúp:
  - Xác định **tổng doanh thu** mà khách hàng mang lại.
  - Là **chỉ báo trực tiếp** về **giá trị của khách hàng** đối với doanh nghiệp.

---

### 🔹 Giá trị giao dịch trung bình (Average Transaction Value):
- Được tính bằng **Tổng chi tiêu** chia cho **Tổng số giao dịch** của mỗi khách hàng.
- Cho biết **giá trị trung bình của mỗi giao dịch** mà khách hàng thực hiện.
- Chỉ số này rất hữu ích để:
  - Hiểu **hành vi chi tiêu theo từng lần mua**.
  - Hỗ trợ xây dựng các **chiến lược marketing** và **ưu đãi phù hợp** cho từng nhóm khách hàng, dựa trên **mô hình chi tiêu trung bình** của họ.

---

✅ Hai đặc trưng này sẽ giúp **phân loại khách hàng** dựa trên **giá trị tài chính**, từ đó xây dựng **chiến lược kinh doanh** và **hệ thống gợi ý sản phẩm** chính xác hơn.
# Tính tổng chi tiêu của mỗi khách hàng
df['Total_Spend'] = df['UnitPrice'] * df['Quantity']
total_spend = df.groupby('CustomerID')['Total_Spend'].sum().reset_index()

# Tính giá trị giao dịch trung bình của mỗi khách hàng
average_transaction_value = total_spend.merge(total_transactions, on='CustomerID')
average_transaction_value['Average_Transaction_Value'] = average_transaction_value['Total_Spend'] / average_transaction_value['Total_Transactions']

# Gộp các đặc trưng mới vào bảng customer_data theo CustomerID
customer_data = pd.merge(customer_data, total_spend, on='CustomerID')
customer_data = pd.merge(customer_data, average_transaction_value[['CustomerID', 'Average_Transaction_Value']], on='CustomerID')

# Hiển thị vài dòng đầu tiên của bảng customer_data sau khi cập nhật
customer_data.head()

#Giải thích lý do tại sao customerID 12346 có 2 transaction
df[df['CustomerID'] == 12346.0][['InvoiceNo', 'UnitPrice', 'Quantity', 'Total_Spend']]
## Phân tích Sự Đa Dạng trong Hành Vi Mua Sản Phẩm

Trong bước này, chúng ta sẽ **tìm hiểu sự đa dạng** trong hành vi mua sản phẩm của khách hàng.  
Việc hiểu được mức độ **đa dạng sản phẩm mà khách hàng mua** có thể giúp doanh nghiệp:
- Thiết kế các **chiến lược marketing cá nhân hóa**.
- Đề xuất sản phẩm **phù hợp hơn** với từng nhóm khách hàng.

---

### 🔹 Số lượng sản phẩm khác nhau đã mua (Unique Products Purchased):
- Biểu thị **số lượng sản phẩm khác nhau** mà một khách hàng đã mua.
- **Giá trị cao** → khách hàng có **thị hiếu đa dạng**, mua nhiều loại sản phẩm khác nhau.
- **Giá trị thấp** → khách hàng có **sở thích cụ thể**, thường mua tập trung vào một vài mặt hàng nhất định.

---

### ✅ Ý nghĩa:
Việc phân tích mức độ **đa dạng trong hành vi mua hàng** sẽ giúp:
- Phân nhóm khách hàng dựa trên **độ phong phú trong lựa chọn sản phẩm**.
- Là **yếu tố quan trọng** trong việc xây dựng **gợi ý sản phẩm cá nhân hóa** và chiến lược chăm sóc khách hàng phù hợp.

---


# Tính số lượng sản phẩm khác nhau mà mỗi khách hàng đã mua
unique_products_purchased = df.groupby('CustomerID')['StockCode'].nunique().reset_index()
unique_products_purchased.rename(columns={'StockCode': 'Unique_Products_Purchased'}, inplace=True)

# Gộp đặc trưng mới vào bảng customer_data theo CustomerID
customer_data = pd.merge(customer_data, unique_products_purchased, on='CustomerID')

# Hiển thị vài dòng đầu tiên của bảng customer_data sau khi cập nhật
customer_data.head()

Step 4.3 | Behavioral Features
## Phân tích Mô hình Mua Sắm và Hành Vi Khách Hàng

🎯 Trong bước này, chúng ta sẽ **tìm hiểu và ghi nhận các mô hình mua sắm (shopping patterns)** cũng như **hành vi của khách hàng**.

Những đặc trưng này sẽ cung cấp **cái nhìn sâu hơn về thói quen và sở thích mua sắm**, từ đó giúp **cá nhân hóa trải nghiệm mua sắm** một cách hiệu quả hơn.

---

### 🔹 Số ngày trung bình giữa các lần mua (Average Days Between Purchases):
- Phản ánh **số ngày trung bình mà khách hàng chờ giữa các lần mua hàng**.
- Hiểu được khoảng cách giữa các giao dịch giúp:
  - **Dự đoán thời điểm mua tiếp theo**.
  - Hỗ trợ hiệu quả cho **các chiến dịch marketing nhắm mục tiêu** và **khuyến mãi cá nhân hóa**.

---

### 🔹 Ngày mua sắm ưa thích (Favorite Shopping Day):
- Là **ngày trong tuần** mà khách hàng **mua hàng nhiều nhất**.
- Thông tin này giúp:
  - Xác định ngày khách hàng thường mua sắm.
  - **Tối ưu hóa các chiến dịch marketing** và chương trình khuyến mãi theo **từng ngày trong tuần**.

---

### 🔹 Giờ mua sắm ưa thích (Favorite Shopping Hour):
- Là **giờ trong ngày** mà khách hàng **mua hàng nhiều nhất**.
- Việc xác định khung giờ mua sắm ưa thích giúp doanh nghiệp:
  - Điều chỉnh thời điểm chạy **quảng cáo**, **email marketing**, **ưu đãi**...
  - Nhắm trúng **thời điểm khách hàng có khả năng tương tác cao nhất**.

---

### ✅ Ý nghĩa:
Việc bổ sung các **đặc trưng hành vi** này vào tập dữ liệu sẽ giúp:
- Hiểu khách hàng **toàn diện hơn**.
- Nâng cao hiệu quả của thuật toán **phân cụm khách hàng (clustering)**.
- Tạo ra những **nhóm khách hàng có ý nghĩa và hành động rõ ràng hơn** để phục vụ mục tiêu **marketing và gợi ý sản phẩm**.

---

# Trích xuất ngày trong tuần và giờ trong ngày từ cột InvoiceDate
df['Day_Of_Week'] = df['InvoiceDate'].dt.dayofweek
df['Hour'] = df['InvoiceDate'].dt.hour

# Tính số ngày trung bình giữa các lần mua hàng liên tiếp của mỗi khách hàng
days_between_purchases = df.groupby('CustomerID')['InvoiceDay'].apply(lambda x: (x.diff().dropna()).apply(lambda y: y.days))
average_days_between_purchases = days_between_purchases.groupby('CustomerID').mean().reset_index()
average_days_between_purchases.rename(columns={'InvoiceDay': 'Average_Days_Between_Purchases'}, inplace=True)

# Tìm ngày trong tuần mà mỗi khách hàng mua hàng nhiều nhất (ngày mua sắm ưa thích)
favorite_shopping_day = df.groupby(['CustomerID', 'Day_Of_Week']).size().reset_index(name='Count')
favorite_shopping_day = favorite_shopping_day.loc[favorite_shopping_day.groupby('CustomerID')['Count'].idxmax()][['CustomerID', 'Day_Of_Week']]

# Tìm giờ trong ngày mà mỗi khách hàng mua hàng nhiều nhất (giờ mua sắm ưa thích)
favorite_shopping_hour = df.groupby(['CustomerID', 'Hour']).size().reset_index(name='Count')
favorite_shopping_hour = favorite_shopping_hour.loc[favorite_shopping_hour.groupby('CustomerID')['Count'].idxmax()][['CustomerID', 'Hour']]

# Gộp các đặc trưng hành vi mới vào bảng customer_data theo CustomerID
customer_data = pd.merge(customer_data, average_days_between_purchases, on='CustomerID')
customer_data = pd.merge(customer_data, favorite_shopping_day, on='CustomerID')
customer_data = pd.merge(customer_data, favorite_shopping_hour, on='CustomerID')

# Hiển thị vài dòng đầu tiên của bảng customer_data sau khi cập nhật
customer_data.head()

Step 4.4 | Geographic Features
## Thêm Đặc Trưng Vị Trí Địa Lý Khách Hàng

Trong bước này, chúng ta sẽ thêm một **đặc trưng về vị trí địa lý** phản ánh **khu vực sinh sống của khách hàng**.

Việc hiểu rõ **phân bố địa lý của khách hàng** là rất quan trọng vì nhiều lý do sau:

---

### 🔹 Quốc gia (Country):
- Đặc trưng này cho biết **khách hàng đến từ quốc gia nào**.
- Việc đưa dữ liệu quốc gia vào sẽ giúp:
  - Hiểu được **các xu hướng mua sắm và sở thích theo khu vực**.
  - Phát hiện rằng **mỗi khu vực có thể có sở thích, hành vi mua hàng khác nhau** → ảnh hưởng đến **chiến lược marketing cá nhân hóa**.

---

### ✅ Lợi ích:
- **Hỗ trợ lập kế hoạch tồn kho** chính xác hơn, phù hợp với nhu cầu tại từng vùng.
- Đóng vai trò quan trọng trong **tối ưu hóa logistics và chuỗi cung ứng**, đặc biệt với các nhà bán lẻ trực tuyến, nơi **vận chuyển và giao hàng** là yếu tố then chốt.

---

df['Country'].value_counts(normalize=True).head()
## Nhận định:

- **Vì một tỷ lệ lớn (89%) các giao dịch đến từ Vương quốc Anh (United Kingdom)**, nên chúng ta có thể cân nhắc **tạo một biến nhị phân** để biểu thị liệu **một giao dịch có đến từ UK hay không**.

---

### Lợi ích của cách tiếp cận này:
- Giúp **đơn giản hóa quá trình phân cụm** (clustering).
- Vẫn **giữ lại thông tin địa lý quan trọng**.
- Đặc biệt hữu ích khi áp dụng các thuật toán như **K-means**, vốn **nhạy cảm với số chiều (dimensionality)** của không gian đặc trưng.

---

✅ Biến nhị phân `Is_UK_Customer` có thể được tạo, với giá trị:
- **1** nếu khách hàng đến từ UK.
- **0** nếu khách hàng đến từ quốc gia khác.

---

## Phương pháp thực hiện:

- **Đầu tiên**, tôi sẽ **group dữ liệu theo CustomerID và Country**, sau đó **tính số lượng giao dịch** tại mỗi quốc gia đối với từng khách hàng.

- **Tiếp theo**, tôi sẽ **xác định quốc gia chính của mỗi khách hàng** — tức là **quốc gia mà họ thực hiện nhiều giao dịch nhất**.

- Sau đó, tôi sẽ **tạo một cột nhị phân (binary column)** để xác định khách hàng có đến từ **Vương quốc Anh (UK)** hay không.

- **Cuối cùng**, tôi sẽ **gộp (merge)** thông tin này vào bảng **customer_data** để **bổ sung đặc trưng địa lý mới** cho quá trình phân tích.
# Nhóm dữ liệu theo CustomerID và Country để tính số giao dịch tại mỗi quốc gia cho từng khách hàng
customer_country = df.groupby(['CustomerID', 'Country']).size().reset_index(name='Number_of_Transactions')

# Lấy quốc gia có số lượng giao dịch nhiều nhất cho mỗi khách hàng (trường hợp khách hàng có nhiều quốc gia khác nhau)
customer_main_country = customer_country.sort_values('Number_of_Transactions', ascending=False).drop_duplicates('CustomerID')

# Tạo cột nhị phân để xác định khách hàng có đến từ UK hay không (1 nếu là UK, ngược lại là 0)
customer_main_country['Is_UK'] = customer_main_country['Country'].apply(lambda x: 1 if x == 'United Kingdom' else 0)

# Gộp thông tin quốc gia chính của khách hàng vào bảng customer_data
customer_data = pd.merge(customer_data, customer_main_country[['CustomerID', 'Is_UK']], on='CustomerID', how='left')

# Hiển thị vài dòng đầu tiên của bảng customer_data sau khi cập nhật
customer_data.head()

customer_data['Is_UK'].value_counts()

Step 4.5 | Cancellation Insights
## Phân tích Mẫu Hành Vi Hủy Đơn Hàng của Khách Hàng

Trong bước này, tôi sẽ **đi sâu vào phân tích các mẫu hành vi hủy đơn hàng của khách hàng** nhằm thu thập những thông tin có thể nâng cao hiệu quả mô hình phân khúc khách hàng.

---

### 🔹 Tần suất hủy đơn (Cancellation Frequency):
- Chỉ số này thể hiện **tổng số giao dịch mà khách hàng đã hủy**.
- Việc hiểu rõ tần suất hủy đơn giúp:
  - Xác định những khách hàng **có xu hướng hay hủy đơn**.
  - Phát hiện các **vấn đề tiềm ẩn** hoặc dấu hiệu của **sự không hài lòng**.
- Việc phát hiện sớm hành vi này giúp doanh nghiệp:
  - Điều chỉnh chiến lược để **giảm thiểu tỷ lệ hủy đơn**.
  - **Tăng sự hài lòng của khách hàng**.

---

### 🔹 Tỷ lệ hủy đơn (Cancellation Rate):
- Là **tỷ lệ giữa số lượng đơn bị hủy và tổng số giao dịch của khách hàng**.
- Chỉ số này cung cấp một cái nhìn **chuẩn hóa về hành vi hủy đơn**.
- **Tỷ lệ hủy cao** có thể là dấu hiệu của:
  - Một phân khúc khách hàng **không hài lòng**.
  - Doanh nghiệp cần xây dựng **chiến lược nhắm mục tiêu cụ thể** để:
    - Cải thiện trải nghiệm mua sắm.
    - Giảm tỷ lệ hủy.

---

### ✅ Ý nghĩa:
Việc tích hợp các thông tin về **hành vi hủy đơn** vào tập dữ liệu sẽ giúp:
- Xây dựng một **bức tranh toàn diện hơn về hành vi khách hàng**.
- Hỗ trợ **phân khúc khách hàng chính xác và hiệu quả hơn**.
# Tính tổng số giao dịch của mỗi khách hàng
total_transactions = df.groupby('CustomerID')['InvoiceNo'].nunique().reset_index()

# Lọc các giao dịch bị hủy (Transaction_Status = 'Cancelled') và tính số lượng giao dịch bị hủy của mỗi khách hàng
cancelled_transactions = df[df['Transaction_Status'] == 'Cancelled']
cancellation_frequency = cancelled_transactions.groupby('CustomerID')['InvoiceNo'].nunique().reset_index()
cancellation_frequency.rename(columns={'InvoiceNo': 'Cancellation_Frequency'}, inplace=True)

# Gộp số lượng hủy đơn vào bảng customer_data theo CustomerID
customer_data = pd.merge(customer_data, cancellation_frequency, on='CustomerID', how='left')

# Thay thế giá trị NaN bằng 0 (với những khách hàng không hủy đơn nào)
customer_data['Cancellation_Frequency'].fillna(0, inplace=True)

# Tính tỷ lệ hủy đơn = số đơn bị hủy / tổng số giao dịch
customer_data['Cancellation_Rate'] = customer_data['Cancellation_Frequency'] / total_transactions['InvoiceNo']

# Hiển thị vài dòng đầu tiên của bảng customer_data sau khi cập nhật
customer_data.head()

Step 4.6 | Seasonality & Trends
## Phân tích Yếu Tố Mùa Vụ và Xu Hướng Chi Tiêu Của Khách Hàng

Trong bước này, tôi sẽ phân tích sâu hơn về yếu tố **mùa vụ (seasonality)** và **xu hướng (trend)** trong hành vi chi tiêu của khách hàng.  
Điều này cung cấp những **hiểu biết vô cùng giá trị** để tùy chỉnh **chiến lược marketing** và nâng cao **sự hài lòng của khách hàng**.

---

### Các đặc trưng dự kiến sẽ thêm vào:

---

### 🔹 Monthly_Spending_Mean (Chi tiêu trung bình theo tháng):
- Là **giá trị chi tiêu trung bình hàng tháng** của mỗi khách hàng.
- Giúp đánh giá **thói quen chi tiêu tổng thể** của khách.
- Ý nghĩa:
  - **Giá trị trung bình cao** → khách hàng chi tiêu nhiều, có thể quan tâm đến **sản phẩm cao cấp**.
  - **Giá trị trung bình thấp** → khách hàng có xu hướng **chi tiêu tiết kiệm** hơn.

---

### 🔹 Monthly_Spending_Std (Độ lệch chuẩn chi tiêu hàng tháng):
- Phản ánh **mức độ dao động trong chi tiêu hàng tháng** của khách hàng.
- Ý nghĩa:
  - **Độ lệch chuẩn cao** → chi tiêu **không ổn định**, có thể có các **giao dịch lớn bất thường**.
  - **Độ lệch chuẩn thấp** → khách hàng có **thói quen chi tiêu đều đặn, ổn định**.
- Hiểu được độ biến động này giúp:
  - **Thiết kế khuyến mãi cá nhân hóa**, đặc biệt vào các thời điểm khách có xu hướng chi tiêu cao hơn.

---

### 🔹 Spending_Trend (Xu hướng chi tiêu):
- Phản ánh **xu hướng thay đổi chi tiêu theo thời gian** của mỗi khách hàng.
- Được tính bằng **độ dốc của đường hồi quy tuyến tính** dựa trên dữ liệu chi tiêu theo thời gian.
- Ý nghĩa:
  - **Giá trị dương** → xu hướng **chi tiêu tăng dần**, có thể là dấu hiệu của **sự trung thành** hoặc **mức độ hài lòng tăng**.
  - **Giá trị âm** → xu hướng **giảm chi tiêu**, có thể báo hiệu **sự giảm quan tâm** hoặc **không hài lòng**.
  - **Gần bằng 0** → **thói quen chi tiêu ổn định**.
- Nhận diện xu hướng này giúp doanh nghiệp:
  - **Duy trì** hoặc **điều chỉnh** hành vi chi tiêu.
  - **Tăng hiệu quả các chiến dịch marketing**.

---

### ✅ Ý nghĩa tổng quan:
Việc tích hợp các đặc trưng chi tiết này vào **mô hình phân khúc khách hàng** giúp:
- Xây dựng **nhóm khách hàng chính xác và hành động được hơn**.
- Thiết kế các **chiến lược marketing** và **khuyến mãi** được **cá nhân hóa tối đa**.

# Trích xuất năm và tháng từ cột InvoiceDate
df['Year'] = df['InvoiceDate'].dt.year
df['Month'] = df['InvoiceDate'].dt.month

# Tính tổng chi tiêu hàng tháng của mỗi khách hàng
monthly_spending = df.groupby(['CustomerID', 'Year', 'Month'])['Total_Spend'].sum().reset_index()

# Tính đặc trưng mua sắm theo mùa: sử dụng chi tiêu hàng tháng để biểu diễn hành vi mùa vụ
seasonal_buying_patterns = monthly_spending.groupby('CustomerID')['Total_Spend'].agg(['mean', 'std']).reset_index()
seasonal_buying_patterns.rename(columns={'mean': 'Monthly_Spending_Mean', 'std': 'Monthly_Spending_Std'}, inplace=True)

# Thay giá trị NaN trong Monthly_Spending_Std bằng 0 (áp dụng cho khách chỉ mua trong 1 tháng)
seasonal_buying_patterns['Monthly_Spending_Std'].fillna(0, inplace=True)

# Tính xu hướng chi tiêu theo thời gian
# Sử dụng độ dốc (slope) của đường hồi quy tuyến tính để biểu diễn xu hướng chi tiêu của khách

def calculate_trend(spend_data):
    # Nếu có nhiều hơn 1 điểm dữ liệu, tính độ dốc của đường hồi quy tuyến tính
    if len(spend_data) > 1:
        x = np.arange(len(spend_data))
        slope, _, _, _, _ = linregress(x, spend_data)
        return slope
    # Nếu chỉ có 1 điểm dữ liệu thì không thể tính được xu hướng, trả về 0
    else:
        return 0

# Áp dụng hàm calculate_trend để tính xu hướng chi tiêu cho từng khách hàng
spending_trends = monthly_spending.groupby('CustomerID')['Total_Spend'].apply(calculate_trend).reset_index()
spending_trends.rename(columns={'Total_Spend': 'Spending_Trend'}, inplace=True)

# Gộp các đặc trưng mới vào bảng customer_data
customer_data = pd.merge(customer_data, seasonal_buying_patterns, on='CustomerID')
customer_data = pd.merge(customer_data, spending_trends, on='CustomerID')

# Hiển thị vài dòng đầu tiên của bảng customer_data sau khi cập nhật
customer_data.head()

We've done a great job so far! We have created a dataset that focuses on our customers, using a variety of new features that give us a deeper understanding of their buying patterns and preferences.
*** Tiếng Việt ***
Chúng ta đã hoàn thành một công việc tuyệt vời cho đến thời điểm này!
Chúng ta đã tạo ra một tập dữ liệu tập trung vào khách hàng, sử dụng nhiều đặc trưng mới giúp hiểu sâu hơn về hành vi mua sắm và sở thích của họ.
# Chuyển kiểu dữ liệu của 'CustomerID' thành chuỗi (string) vì đây là mã định danh, không dùng để tính toán
customer_data['CustomerID'] = customer_data['CustomerID'].astype(str)

# Tự động chuyển đổi kiểu dữ liệu các cột sang kiểu tối ưu nhất (ví dụ: int -> Int64, float -> Float64, object -> string,...)
customer_data = customer_data.convert_dtypes()

customer_data.head(10)
customer_data.info()
## Mô Tả Dataset Khách Hàng (Customer Dataset Description)

| Biến                        | Mô Tả                                                                                                                                                                |
|----------------------------|--------------------------------------------------------------------------------------------------------------------------------------------------------------------|
| CustomerID                 | Mã định danh duy nhất được gán cho từng khách hàng, dùng để phân biệt các khách hàng.                                                                              |
| Days_Since_Last_Purchase   | Số ngày đã trôi qua kể từ lần mua hàng gần nhất của khách hàng.                                                                                                    |
| Total_Transactions         | Tổng số giao dịch mà khách hàng đã thực hiện.                                                                                                                       |
| Total_Products_Purchased   | Tổng số lượng sản phẩm mà khách hàng đã mua qua tất cả các giao dịch.                                                                                                |
| Total_Spend                | Tổng số tiền mà khách hàng đã chi tiêu qua tất cả các giao dịch.                                                                                                     |
| Average_Transaction_Value  | Giá trị trung bình của các giao dịch, được tính bằng tổng chi tiêu chia cho số lượng giao dịch.                                                                      |
| Unique_Products_Purchased  | Số lượng sản phẩm khác nhau mà khách hàng đã mua.                                                                                                                    |
| Average_Days_Between_Purchases | Số ngày trung bình giữa các lần mua hàng liên tiếp của khách hàng.                                                                                                  |
| Day_Of_Week                | Ngày trong tuần mà khách hàng thích mua hàng nhất (biểu diễn bằng số, 0 là Thứ Hai, 6 là Chủ Nhật).                                                                  |
| Hour                       | Giờ trong ngày mà khách hàng thích mua hàng nhất (định dạng 24 giờ).                                                                                                  |
| Is_UK                      | Biến nhị phân xác định khách hàng có đến từ Vương quốc Anh hay không (1 nếu có, 0 nếu không).                                                                         |
| Cancellation_Frequency     | Tổng số giao dịch mà khách hàng đã hủy.                                                                                                                              |
| Cancellation_Rate          | Tỷ lệ hủy đơn, được tính bằng số giao dịch hủy chia cho tổng số giao dịch.                                                                                           |
| Monthly_Spending_Mean      | Chi tiêu trung bình hàng tháng của khách hàng.                                                                                                                       |
| Monthly_Spending_Std       | Độ lệch chuẩn của chi tiêu hàng tháng của khách hàng, phản ánh mức độ biến động trong hành vi chi tiêu.                                                               |
| Spending_Trend             | Giá trị số phản ánh xu hướng chi tiêu của khách hàng theo thời gian: giá trị dương là tăng, giá trị âm là giảm, gần 0 là ổn định.                                     |

## Chúng ta đã làm rất tốt cho đến thời điểm này!

Chúng ta đã tạo ra một **tập dữ liệu tập trung vào khách hàng**, với **nhiều đặc trưng mới** giúp chúng ta **hiểu sâu hơn về hành vi mua sắm và sở thích của họ**.

---

## Bước tiếp theo của dự án:

Giờ đây khi tập dữ liệu đã **sẵn sàng**, chúng ta có thể chuyển sang các bước tiếp theo của dự án, bao gồm:

- **Xem xét dữ liệu kỹ hơn** để tìm ra các **mẫu (patterns)** hoặc **xu hướng (trends)**.
- **Đảm bảo chất lượng dữ liệu** bằng cách kiểm tra và xử lý các **giá trị ngoại lai (outliers)**.
- **Chuẩn bị dữ liệu** cho quá trình **phân cụm (clustering)**.

---

## Ý nghĩa:

Tất cả các bước này sẽ giúp chúng ta:
✅ Xây dựng một **nền tảng vững chắc** để tạo ra các **phân khúc khách hàng có ý nghĩa**.  
✅ Và cuối cùng là **phát triển một hệ thống gợi ý cá nhân hóa hiệu quả**, phù hợp với nhu cầu và hành vi của từng nhóm khách hàng.

## Step 5 | Outlier Detection and Treatment
## Nhận Diện và Xử Lý Outliers

Trong phần này, tôi sẽ **nhận diện và xử lý các giá trị ngoại lai (outliers)** trong tập dữ liệu.

---

### Outliers là gì?
- Outlier là những **điểm dữ liệu khác biệt đáng kể** so với phần lớn các điểm còn lại trong tập dữ liệu.
- Những điểm này có thể **làm sai lệch kết quả phân tích**, đặc biệt là trong **phân cụm K-means**, nơi mà outliers có thể **ảnh hưởng mạnh đến vị trí của các tâm cụm (centroids)**.

---

### Tại sao cần xử lý outliers?
✅ Giúp thu được kết quả **phân cụm chính xác và có ý nghĩa hơn**.  
✅ Tránh **sai lệch** do các giá trị bất thường gây ra.

---

### Phương pháp phát hiện outliers:
🔍 Vì dữ liệu của chúng ta có **nhiều chiều (multi-dimensional)**, nên sẽ hợp lý hơn nếu sử dụng các thuật toán có khả năng phát hiện outliers trong không gian nhiều chiều.

---

### Tôi sẽ sử dụng **Isolation Forest**:
- Thuật toán này hoạt động tốt với **dữ liệu nhiều chiều**.
- Có **hiệu suất tính toán cao**.
- **Cơ chế hoạt động**:
  - **Cô lập điểm dữ liệu** bằng cách chọn ngẫu nhiên một đặc trưng.
  - Chọn **giá trị phân tách ngẫu nhiên** giữa giá trị lớn nhất và nhỏ nhất của đặc trưng đó.

---

➡ **Hãy cùng triển khai phương pháp này nhé!**

#kiểm tra có bao nhiêu cột
df.shape[1]

#kiểm tra customer_data có bao nhiêu cột có kiểu dữ liệu số
print("Tổng số chiều số:", customer_data.select_dtypes(include='number').shape[1])
# Khởi tạo mô hình IsolationForest với tham số contamination = 0.05 (tức là giả định 5% dữ liệu là outlier)
model = IsolationForest(contamination=0.05, random_state=0)

# Huấn luyện mô hình trên dữ liệu (chuyển DataFrame thành NumPy để tránh cảnh báo)
customer_data['Outlier_Scores'] = model.fit_predict(customer_data.iloc[:, 1:].to_numpy())

# Tạo cột mới 'Is_Outlier' để dễ hiểu hơn: 1 nếu là outlier, 0 nếu không phải
customer_data['Is_Outlier'] = [1 if x == -1 else 0 for x in customer_data['Outlier_Scores']]
# Hiển thị vài dòng đầu tiên sau khi thêm thông tin outlier
customer_data.head()

## Trực Quan Hóa Kết Quả Phát Hiện Outliers

Sau khi áp dụng thuật toán **Isolation Forest**, chúng ta đã:

✅ **Xác định được các giá trị ngoại lai (outliers)** và đánh dấu chúng trong một cột mới có tên là **Is_Outlier**.

✅ Tính toán được **điểm bất thường (outlier scores)**, phản ánh **mức độ bất thường** của từng bản ghi trong tập dữ liệu.

---

### 📊 Tiếp theo:
- Trực quan hóa **phân bố của các điểm số bất thường** (outlier scores).
- Trực quan hóa **số lượng điểm bình thường (inliers)** và **điểm ngoại lai (outliers)** mà mô hình đã phát hiện.

---

🎯 Việc trực quan hóa này giúp:
- Hiểu rõ **đặc điểm phân bố outliers**.
- Xác định xem outliers xuất hiện ở mức độ nào so với phần còn lại của dữ liệu.

# Tính % của inliers và outliers
outlier_percentage = customer_data['Is_Outlier'].value_counts(normalize=True) * 100

plt.figure(figsize=(12, 4))
outlier_percentage.plot(kind='barh', color='#ff6200')


for index, value in enumerate(outlier_percentage):
    plt.text(value, index, f'{value:.2f}%', fontsize=15)

plt.title('Percentage of Inliers and Outliers')
plt.xticks(ticks=np.arange(0, 115, 5))
plt.xlabel('Percentage (%)')
plt.ylabel('Is Outlier')
plt.gca().invert_yaxis()
plt.show()
## Nhận định:

Từ biểu đồ ở trên, chúng ta có thể thấy rằng **khoảng 5% khách hàng** đã được xác định là **outliers** trong tập dữ liệu.

---

### Tỷ lệ này có vẻ hợp lý:
- **Không quá cao** đến mức loại bỏ nhiều dữ liệu quan trọng.
- **Cũng không quá thấp** đến mức giữ lại nhiều điểm nhiễu.

---

### Kết luận:
✅ Điều này cho thấy **thuật toán Isolation Forest** đã hoạt động hiệu quả, xác định được **một tỷ lệ vừa phải** các ngoại lệ.  
✅ Việc này **rất quan trọng** để nâng cao **độ chính xác của mô hình phân cụm khách hàng** sau này.
## Chiến lược:

Xét trong bối cảnh của dự án (**phân cụm khách hàng bằng clustering**), việc **xử lý outliers** là **rất quan trọng** để:

- Ngăn **outliers làm sai lệch các cụm phân nhóm**.
- Tăng **chất lượng** và **độ chính xác** của kết quả phân cụm.

---

### Các bước thực hiện:

1️⃣ **Tách riêng các outliers** để phục vụ cho **phân tích chuyên sâu sau này** (có thể **lưu ra file riêng** – tùy chọn).

2️⃣ **Loại bỏ các outliers** khỏi tập dữ liệu chính để chuẩn bị cho quá trình phân cụm.

3️⃣ **Xóa các cột phụ trợ** (`Outlier_Scores` và `Is_Outlier`) vì chúng chỉ được dùng cho bước phát hiện outlier.

---

🎯 **Hãy cùng thực hiện các bước này nhé!**

# Tách các dòng được đánh dấu là outlier ra để phân tích riêng
outliers_data = customer_data[customer_data['Is_Outlier'] == 1]
# Loại bỏ các outliers khỏi tập dữ liệu chính để chuẩn bị cho bước phân cụm
customer_data_cleaned = customer_data[customer_data['Is_Outlier'] == 0]
# Xóa các cột phụ trợ dùng để xác định outliers vì không còn cần thiết nữa
customer_data_cleaned = customer_data_cleaned.drop(columns=['Outlier_Scores', 'Is_Outlier'])
# Đặt lại chỉ số dòng cho bảng dữ liệu đã được làm sạch
customer_data_cleaned.reset_index(drop=True, inplace=True)
## Kết quả xử lý Outliers

Chúng ta đã **tách thành công các giá trị ngoại lai (outliers)** để **phân tích riêng**, đồng thời **làm sạch tập dữ liệu chính** bằng cách loại bỏ những outliers này.

---

### Tập dữ liệu sau khi làm sạch hiện đã sẵn sàng cho các bước tiếp theo trong dự án phân khúc khách hàng, bao gồm:

✅ **Chuẩn hóa các đặc trưng (scaling features)**.

✅ **Áp dụng thuật toán phân cụm (clustering)** để xác định các **nhóm khách hàng khác biệt**.

# Getting the number of rows in the cleaned customer dataset
customer_data_cleaned.shape[0]
## Step 6 | Feature Scaling
## Tại sao cần chuẩn hóa (Scaling) dữ liệu trước khi phân cụm và giảm chiều?

Trước khi tiến hành các bước **phân cụm (clustering)** và **giảm chiều (dimensionality reduction)**, việc **chuẩn hóa (scale)** các đặc trưng là điều **bắt buộc**.

Bước này **đặc biệt quan trọng** khi làm việc với các thuật toán **dựa trên khoảng cách** như **K-means** và các phương pháp giảm chiều như **PCA**.

---

### Lý do:

---

### 🔹 Đối với phân cụm K-means:
- **K-means dựa rất nhiều vào khái niệm "khoảng cách"** giữa các điểm dữ liệu để hình thành các cụm.
- Nếu các đặc trưng không được đưa về cùng **thang đo**, những đặc trưng có **giá trị lớn hơn** sẽ chi phối kết quả phân cụm.
- Điều này dẫn đến **kết quả phân nhóm không chính xác**.

---

### 🔹 Đối với PCA:
- **PCA tìm các hướng (thành phần chính)** mà trong đó dữ liệu có độ biến thiên lớn nhất.
- Nếu không chuẩn hóa, các đặc trưng có **giá trị lớn hơn** sẽ chi phối các thành phần chính này.
- Kết quả sẽ không phản ánh đúng **cấu trúc tiềm ẩn của dữ liệu**.

---

✅ Vì vậy, việc **chuẩn hóa dữ liệu** trước khi thực hiện K-means và PCA là **rất quan trọng** để đảm bảo tính **công bằng** giữa các đặc trưng và **độ chính xác** của kết quả phân tích.

## Phương pháp chuẩn hóa dữ liệu (Methodology)

Để đảm bảo các đặc trưng có **ảnh hưởng cân bằng** lên mô hình và khám phá được **các mẫu tiềm ẩn thực sự** trong dữ liệu, tôi sẽ tiến hành **chuẩn hóa (standardize)** dữ liệu, nghĩa là:

- Chuyển đổi các đặc trưng sao cho có:
  - Trung bình = 0
  - Độ lệch chuẩn = 1

---

### Tuy nhiên, không phải tất cả các đặc trưng đều cần được chuẩn hóa. Dưới đây là các ngoại lệ và lý do loại trừ:

---

### ❌ Không chuẩn hóa:

- **CustomerID**:  
  - Đây chỉ là mã định danh khách hàng, không mang ý nghĩa phân tích cho bài toán clustering.

- **Is_UK**:  
  - Là một biến nhị phân (0 hoặc 1) biểu thị khách hàng có đến từ UK hay không.
  - Do đã ở dạng nhị phân, việc chuẩn hóa sẽ **không mang lại ý nghĩa** đáng kể.

- **Day_Of_Week**:  
  - Đại diện cho **ngày trong tuần** mà khách hàng thường mua hàng nhất (1–7).
  - Đây là một đặc trưng dạng **categorical dạng số**, không cần chuẩn hóa.

---

✅ Tôi sẽ chuẩn hóa **các đặc trưng còn lại** trong dataset để chuẩn bị cho các bước tiếp theo: **PCA** và **K-means clustering**.

# Khởi tạo bộ chuẩn hóa StandardScaler
scaler = StandardScaler()

# Danh sách các cột không cần chuẩn hóa
columns_to_exclude = ['CustomerID', 'Is_UK', 'Day_Of_Week']

# Danh sách các cột cần được chuẩn hóa
columns_to_scale = customer_data_cleaned.columns.difference(columns_to_exclude)

# Sao chép tập dữ liệu đã làm sạch
customer_data_scaled = customer_data_cleaned.copy()

# Áp dụng bộ chuẩn hóa cho các cột cần thiết trong tập dữ liệu
customer_data_scaled[columns_to_scale] = scaler.fit_transform(customer_data_scaled[columns_to_scale])

# Hiển thị vài dòng đầu tiên của dữ liệu đã được chuẩn hóa
customer_data_scaled.head()

Lúc này customer_data_scaled có cột dạng Object hoặc String => chỉ chọn các cột numeric cần thiết
## Step 7 | K-Means Clustering
## Giới thiệu về K-Means

**K-Means** là một thuật toán **học máy không giám sát (unsupervised learning)** dùng để **phân cụm dữ liệu** thành một số lượng nhóm **xác định trước** (K cụm), bằng cách **tối thiểu hóa tổng bình phương khoảng cách trong cụm** (**WCSS – Within-Cluster Sum of Squares**, hay còn gọi là **inertia**).

---

### Nguyên lý hoạt động:
1️⃣ **Gán mỗi điểm dữ liệu** vào **tâm cụm gần nhất** (centroid).  
2️⃣ **Cập nhật lại vị trí của các tâm cụm** bằng cách tính **trung bình** các điểm thuộc cụm đó.  
3️⃣ Lặp lại quá trình trên cho đến khi thuật toán **hội tụ** (centroids không thay đổi nữa) hoặc đạt **điều kiện dừng**.

---

✅ **Mục tiêu cuối cùng**:  
Tìm ra các **cụm dữ liệu** sao cho **khoảng cách giữa các điểm trong cùng cụm là nhỏ nhất**, còn **khoảng cách giữa các cụm là lớn nhất**.

## Step 8.1 | Determining the Optimal Number of Clusters
## Xác định số lượng cụm tối ưu (k) trong phân khúc khách hàng

Để xác định số lượng cụm **tối ưu (k)** trong việc phân khúc khách hàng, tôi sẽ sử dụng **hai phương pháp nổi tiếng** sau:

---

### 🔹 Phương pháp Elbow (Elbow Method):
- Xem xét mối quan hệ giữa số lượng cụm **k** và **WCSS (Within-Cluster Sum of Squares)**.
- Điểm **"elbow"** (khi độ giảm WCSS bắt đầu chậm lại) được xem là **k tối ưu**.

# Step 8.1.1 | Elbow Method
## Elbow Method là gì?

**Elbow Method** (phương pháp khuỷu tay) là một kỹ thuật dùng để **xác định số lượng cụm lý tưởng** trong một tập dữ liệu.  
Phương pháp này thực hiện như sau:

---

### Cách thực hiện:
1️⃣ **Lặp qua nhiều giá trị khác nhau của k** (số cụm cần phân loại).  
2️⃣ Với mỗi giá trị k, thuật toán **K-means** sẽ tính:
- **Tổng bình phương khoảng cách** giữa từng điểm dữ liệu và tâm cụm được gán (gọi là **inertia** hoặc **WCSS – Within-Cluster Sum of Squares**).
3️⃣ Sau đó, vẽ **biểu đồ giữa inertia và số cụm k**.
- Đường cong thu được thường có hình dạng giống như **khuỷu tay** (elbow), vì thế được gọi là **Elbow Method**.

---

### 👉 Điểm khuỷu tay (elbow point):
- Chính là giá trị **k** mà từ đó, việc tăng thêm cụm **không giúp giảm đáng kể inertia nữa**.
- Đây được xem là **số cụm tối ưu cần chọn**.

---

✅ Phương pháp này giúp chọn số cụm k **hợp lý**, tránh việc **phân cụm quá ít** hoặc **quá nhiều**, đảm bảo hiệu quả phân tích và dễ diễn giải.
## Sử dụng Thư viện YellowBrick

Trong phần này, tôi sẽ sử dụng thư viện **YellowBrick** để hỗ trợ triển khai **phương pháp Elbow**.

---

### YellowBrick là gì?
- **YellowBrick** là một **thư viện mở rộng** của **Scikit-Learn API**.
- Thư viện này nổi tiếng nhờ khả năng **tạo ra các trực quan hóa nhanh chóng và trực quan** trong lĩnh vực **học máy (machine learning)**.
- Đặc biệt hữu ích trong việc:
  - Khám phá dữ liệu.
  - Hiểu rõ hơn về kết quả của các mô hình học máy.
  - Trực quan hóa các chỉ số, phân cụm và biểu đồ.

---

✅ Việc sử dụng **YellowBrick** giúp:
- Tiết kiệm thời gian.
- Tăng tính trực quan khi thực hiện **phân cụm K-means** và tìm số cụm tối ưu bằng **Elbow Method**.

# Thiết lập kiểu biểu đồ và màu nền trục
sns.set(style='darkgrid', rc={'axes.facecolor': '#fcf0dc'})
sns.set_palette(['#ff6200'])

# Chọn cột numeric cần thiết để đưa vào KMeans
columns_to_use = customer_data_scaled.select_dtypes(include=[np.number]).columns.tolist()

# Loại bỏ cột CustomerID nếu có
if 'CustomerID' in columns_to_use:
    columns_to_use.remove('CustomerID')

# Khởi tạo mô hình phân cụm KMeans với các tham số được chỉ định
km = KMeans(init='k-means++', n_init=10, max_iter=100, random_state=0)

# Tạo đối tượng biểu đồ và trục với kích thước mong muốn
fig, ax = plt.subplots(figsize=(12, 5))

# Khởi tạo KElbowVisualizer với mô hình và phạm vi giá trị k, tắt hiển thị thời gian huấn luyện
visualizer = KElbowVisualizer(km, k=(2, 15), timings=False, ax=ax)

# Huấn luyện mô hình với dữ liệu đã chọn để vẽ biểu đồ Elbow
visualizer.fit(customer_data_scaled[columns_to_use])

# Hoàn tất và hiển thị biểu đồ
visualizer.show()
## Kết Quả Phân Tích Elbow – Xác Định Giá Trị k Tối Ưu

Biểu đồ Elbow cho thấy **giá trị k được đề xuất là 5** (Elbow Point tại k=5, Distortion Score ~40,550).

---

### Nhận xét:
- **Điểm khuỷu tay không quá rõ ràng** (elbow không sắc nét) — điều này **thường gặp khi xử lý dữ liệu thực tế**.
- Quan sát đường giảm distortion, ta thấy:
  - Độ dốc bắt đầu giảm chậm lại sau **k=5**.
  - Tuy nhiên, distortion vẫn tiếp tục giảm đều.
- Do đó, **k=5 là lựa chọn hợp lý**, nhưng cũng có thể cân nhắc các giá trị **k khác trong khoảng 3 ≤ k ≤ 7** để kiểm tra thêm.

---

### Khuyến nghị:
✅ **Dùng phân tích silhouette** để đánh giá chất lượng cụm trong khoảng **k** này.  
✅ **Kết hợp thêm business insights (hiểu biết nghiệp vụ)** để xác định **số cụm thực tế phù hợp nhất** với bài toán.

---

🔍 Bước tiếp theo: Tiến hành phân tích **Silhouette** để chọn **k tốt nhất**.

# Step 8.2 | Clustering Model - K-means
## Áp Dụng Thuật Toán Phân Cụm K-Means

Trong bước này, tôi sẽ **áp dụng thuật toán phân cụm K-means** để **phân khúc khách hàng** thành các nhóm khác nhau, dựa trên:
- **Hành vi mua hàng**.
- Các **đặc điểm liên quan khác**.

✅ Số lượng cụm tối ưu (**k**) đã được xác định ở bước trước.

---

### Lưu ý quan trọng:
- **Thuật toán K-means** có thể **gán nhãn cụm khác nhau** trong mỗi lần chạy, do tính chất **khởi tạo ngẫu nhiên ban đầu**.
- Để giải quyết vấn đề này, tôi đã thực hiện một bước bổ sung:
  - **Sắp xếp lại nhãn cụm theo tần suất xuất hiện** (số lượng điểm trong mỗi cụm).
  - Mục đích: Đảm bảo **gán nhãn cụm nhất quán** giữa các lần chạy khác nhau.

---

✅ Sau khi phân cụm, chúng ta sẽ có các **nhóm khách hàng rõ ràng** dựa trên **hành vi và đặc điểm** của họ, từ đó hỗ trợ cho việc **xây dựng chiến lược marketing** và **hệ thống gợi ý cá nhân hóa**.

from sklearn.cluster import KMeans
from collections import Counter
import numpy as np

# 1️⃣ Khởi tạo và huấn luyện mô hình KMeans với k=3
kmeans = KMeans(n_clusters=3, init='k-means++', n_init=10, max_iter=100, random_state=0)
kmeans.fit(customer_data_scaled[columns_to_use])

# 2️⃣ Lấy tần suất xuất hiện của từng cụm
cluster_frequencies = Counter(kmeans.labels_)

# 3️⃣ Tạo ánh xạ nhãn cũ → nhãn mới theo tần suất (cụm đông nhất → 0, tiếp theo → 1, ...)
label_mapping = {label: new_label for new_label, (label, _) in 
                 enumerate(cluster_frequencies.most_common())}

# 4️⃣ (Tuỳ chọn) Ánh xạ ngược lại theo ý riêng của bạn (vd: đổi 0 -> 2, 1 -> 0, 2 -> 1)
custom_mapping = {2: 1, 1: 0, 0: 2}  # Ví dụ: tuỳ chỉnh theo nhu cầu phân tích
final_mapping = {old_label: custom_mapping[new_label] for old_label, new_label in label_mapping.items()}

# 5️⃣ Áp dụng ánh xạ
new_labels = np.array([final_mapping[label] for label in kmeans.labels_])

# 6️⃣ Thêm cột cluster vào dataset gốc đã làm sạch
customer_data_cleaned = customer_data_cleaned.copy()
customer_data_cleaned['cluster'] = new_labels

# 7️⃣ Tạo bảng kết quả đầy đủ (CustomerID + tất cả feature + cluster)
final_result = customer_data_cleaned.copy()

# 8️⃣ Xem kết quả
import pandas as pd
pd.set_option('display.max_columns', None)  # Hiện đầy đủ cột
final_result.head()

## Step 9 | Clustering Evaluation
## Đánh Giá Phân Cụm – Chỉ Sử Dụng Biểu Đồ Phân Bố Cụm

Sau khi xác định số cụm tối ưu (trong trường hợp này là **3**) bằng **phương pháp Elbow**, tôi tiến hành bước **đánh giá phân cụm** để kiểm tra **chất lượng của các cụm đã hình thành**.

---

### 🎯 Mục tiêu của bước này:
✅ **Xác nhận tính hiệu quả** của quá trình phân cụm.  
✅ Đảm bảo các cụm được tạo ra là **rõ ràng**, **tách biệt** và **cân bằng hợp lý** để phục vụ các phân tích tiếp theo.

---

### 🔍 Phương pháp Đánh Giá:

- Tôi tập trung vào việc sử dụng **Biểu đồ Phân Bố Cụm (Cluster Distribution)** để xem xét **số lượng khách hàng trong từng cụm**.
- **Biểu đồ này giúp**:
  - Xác định xem các cụm có **phân bổ hợp lý** không.
  - Phát hiện cụm nào **quá lớn** hoặc **quá nhỏ**, gây **mất cân đối**.

---

### ⚠️ Lưu ý:
- Tôi **không sử dụng các chỉ số đánh giá** như **Silhouette Score**, **Calinski-Harabasz** hay **Davies-Bouldin** trong bước này.
- **Biểu đồ phân bố cụm** mang lại cái nhìn **nhanh và trực quan** về cách dữ liệu được phân chia giữa các cụm.
- Việc xác định **số cụm cuối cùng** cũng dựa trên **hiểu biết nghiệp vụ**, đảm bảo phù hợp với **thực tế** và hỗ trợ **ra quyết định kinh doanh chính xác**.

---

✅ Đây là bước **đánh giá ban đầu quan trọng** trước khi đi sâu vào phân tích chi tiết từng cụm.

## Step 10 | Cluster Distribution Visualization
Tôi sẽ sử dụng **biểu đồ cột (bar plot)** để trực quan hóa **tỷ lệ phần trăm khách hàng trong từng cụm**.  
Mục đích là giúp đánh giá xem **các cụm có được phân bố cân bằng** và **có ý nghĩa** hay không.

---

✅ Biểu đồ cột sẽ giúp:
- Phát hiện xem có cụm nào chiếm **quá nhiều** hoặc **quá ít** khách hàng không.
- Hỗ trợ việc **đánh giá chất lượng phân cụm** trước khi đi sâu vào phân tích đặc điểm từng cụm.

import matplotlib.pyplot as plt
import seaborn as sns
import numpy as np

# Tính phần trăm khách hàng trong từng cụm
cluster_percentage = (customer_data_cleaned['cluster'].value_counts(normalize=True) * 100).reset_index()
cluster_percentage.columns = ['Cluster', 'Percentage']
cluster_percentage.sort_values(by='Cluster', inplace=True)

# Tạo màu cho từng cụm (nếu bạn muốn custom)
colors = sns.color_palette("husl", len(cluster_percentage))  # Hoặc bạn để nguyên `palette=colors`

# Tạo biểu đồ cột ngang
plt.figure(figsize=(10, 4))
sns.barplot(x='Percentage', y='Cluster', data=cluster_percentage, orient='h', palette=colors)

# Thêm nhãn phần trăm trên từng thanh
for index, value in enumerate(cluster_percentage['Percentage']):
    plt.text(value + 0.5, index, f'{value:.2f}%', va='center')

# Đặt tiêu đề và trục
plt.title('Phân bố khách hàng theo các cụm', fontsize=14)
plt.xticks(ticks=np.arange(0, 60, 5))
plt.xlabel('Tỷ lệ (%)')

# Hiển thị biểu đồ
plt.show()

## Đánh Giá Phân Bố Khách Hàng Giữa Các Cụm

Sự phân bố khách hàng giữa các cụm, như được minh họa qua **biểu đồ cột**, cho thấy một phân bố **hơi lệch nhẹ**:

---

### Kết quả phân bố:
- **Cụm 2**: ~41.31% tổng số khách hàng.
- **Cụm 0**: ~40.89% tổng số khách hàng.
- **Cụm 1**: ~17.80% tổng số khách hàng (nhóm nhỏ nhất).

---

### Nhận định:
- Phân bố này cho thấy thuật toán phân cụm đã hoạt động **hiệu quả** trong việc **tách biệt các nhóm khách hàng** thành các phân khúc riêng biệt.
- Có **hai phân khúc lớn** và **một phân khúc nhỏ hơn nhưng vẫn có ý nghĩa quan trọng**.
- Nhóm khách hàng trong cụm nhỏ này có thể là **những khách hàng đặc biệt**, cần có các **chiến lược chăm sóc riêng biệt**, ví dụ:
  - **Ưu đãi cá nhân hóa**.
  - **Chương trình giữ chân khách hàng**.

---

✅ Nhìn chung, sự phân bố này đảm bảo:
- **Độ đa dạng** và **đại diện hợp lý** của các phân khúc khách hàng.
- Tạo **nền tảng vững chắc** để doanh nghiệp áp dụng các chiến lược dựa trên **dữ liệu thực tiễn**.

## Step 11 | Cluster Analysis and Profiling
## Phân Tích Đặc Điểm và Hồ Sơ Khách Hàng Theo Từng Cụm

Trong phần này, tôi sẽ thực hiện **phân tích các đặc điểm của từng cụm** để hiểu rõ:
- **Hành vi**.
- **Sở thích khác biệt** của các nhóm khách hàng.

---

### Mục tiêu:
✅ Hiểu được **sự khác biệt nổi bật** giữa các cụm khách hàng.  
✅ Xây dựng **hồ sơ cho từng cụm** nhằm xác định:
- **Các đặc điểm chính nổi bật**.
- Những **hành vi đặc trưng** của khách hàng trong mỗi nhóm.

---

🎯 Kết quả của phân tích này sẽ giúp:
- Doanh nghiệp **nắm bắt chân dung khách hàng rõ ràng hơn**.
- Từ đó đưa ra các **chiến lược marketing**, **ưu đãi cá nhân hóa**, hoặc **chương trình giữ chân khách hàng** phù hợp cho từng phân khúc.

# Step 11.1 | Radar Chart Approach
## Trực Quan Hóa Hồ Sơ Các Cụm Bằng Biểu Đồ Radar

Trước tiên, tôi sẽ **tạo các biểu đồ radar** để trực quan hóa **giá trị tâm (centroid)** của từng cụm trên các đặc trưng khác nhau.  
Việc này giúp **so sánh nhanh chóng** hồ sơ của các cụm khách hàng khác nhau.

---

### Các bước thực hiện:

1️⃣ **Tính toán giá trị tâm (centroid)** cho từng cụm:
- Tâm cụm đại diện cho **giá trị trung bình** của tất cả các đặc trưng trong một cụm cụ thể.

2️⃣ **Hiển thị các giá trị tâm này** trên biểu đồ radar:
- Biểu đồ radar giúp **dễ dàng quan sát xu hướng trung tâm** của từng đặc trưng trên các cụm khách hàng khác nhau.
- Từ đó, ta có thể nhận biết:
  - Cụm nào có giá trị nổi bật ở đặc trưng nào.
  - Các cụm khác nhau về đặc điểm gì.

---

✅ Biểu đồ radar là công cụ hữu ích để:
- **Tóm tắt trực quan hồ sơ cụm**.
- Hỗ trợ đưa ra quyết định và xây dựng **chiến lược marketing phù hợp** cho từng nhóm khách hàng.

import numpy as np
import pandas as pd
from sklearn.preprocessing import StandardScaler
import matplotlib.pyplot as plt

# 1️⃣ Đặt 'CustomerID' làm index và chuẩn hóa dữ liệu (trừ cột 'cluster')
df_customer = customer_data_cleaned.set_index('CustomerID')
features = df_customer.drop(columns=['cluster'])

scaler = StandardScaler()
features_scaled = scaler.fit_transform(features)

# Tạo DataFrame chuẩn hóa và thêm 'cluster' trở lại
df_customer_standardized = pd.DataFrame(features_scaled, columns=features.columns, index=features.index)
df_customer_standardized['cluster'] = df_customer['cluster']

# 2️⃣ Tính centroid (trung bình) cho từng cụm
cluster_centroids = df_customer_standardized.groupby('cluster').mean()

# 3️⃣ Chuẩn bị vẽ Radar Chart
labels = cluster_centroids.columns.tolist()
num_vars = len(labels)

angles = np.linspace(0, 2 * np.pi, num_vars, endpoint=False).tolist()
labels += [labels[0]]
angles += angles[:1]

# Tạo màu cho từng cụm
colors = ['#ff6200', '#2ca02c', '#1f77b4']  # Bạn có thể chỉnh màu tại đây nếu muốn

# Hàm vẽ Radar Chart cho từng cụm
def create_radar_chart(ax, angles, data, color, cluster_label):
    ax.fill(angles, data, color=color, alpha=0.3)
    ax.plot(angles, data, color=color, linewidth=2, linestyle='solid')
    ax.set_title(f'Cụm {cluster_label}', size=15, color=color, y=1.1)

# 4️⃣ Tạo biểu đồ radar cho từng cụm
fig, axs = plt.subplots(figsize=(20, 8), subplot_kw=dict(polar=True), nrows=1, ncols=3)

for i, ax in enumerate(axs):
    cluster_data = cluster_centroids.loc[i].tolist()
    cluster_data += cluster_data[:1]  # Đóng vòng
    create_radar_chart(ax, angles, cluster_data, colors[i], i)
    
    ax.set_xticks(angles[:-1])
    ax.set_xticklabels(labels[:-1], fontsize=10)
    ax.grid(color='grey', linewidth=0.5)

plt.tight_layout()
plt.show()

## Customer Profiles Derived from Radar Chart Analysis

---

### 🌶️ Cụm 0 (Biểu đồ Cam)
🎯 **Hồ sơ:** Khách hàng mua ít, giao dịch thấp, chi tiêu thấp

- `Total_Transactions`, `Total_Products_Purchased`, `Total_Spend` đều **rất thấp** → Khách hàng **ít mua**, **ít chi tiêu**.
- `Day_Of_Week` **rất cao** → Chủ yếu mua **vào cuối tuần**.
- `Spending_Trend` **thấp** → Chi tiêu có xu hướng **giảm dần**.
- Các chỉ số khác như `Average_Transaction_Value`, `Cancellation`, `Is_UK` đều **thấp**.
- 👉 Đây là nhóm **khách hàng ít hoạt động**, **giao dịch nhỏ lẻ**, **không thường xuyên**.

---

### 🌿 Cụm 1 (Biểu đồ Xanh Lá)
🎯 **Hồ sơ:** Khách hàng trung thành, mua thường xuyên, chi tiêu cao, đa dạng sản phẩm

- `Total_Transactions`, `Total_Products_Purchased`, `Total_Spend`, `Unique_Products_Purchased` đều **cao vượt trội** → Nhóm **hoạt động sôi nổi nhất**.
- `Average_Transaction_Value` **cao vừa phải** → Giao dịch **giá trị trung bình**, **thường xuyên**.
- `Spending_Trend` **cao** → Chi tiêu **tăng trưởng dương**, **bền vững**.
- `Day_Of_Week` và `Hour` **thấp** → Thường mua **đầu tuần** và **ban ngày**.
- `Is_UK` **cao** → Chủ yếu là **khách hàng ở UK**.
- `Cancellation Rate` và `Frequency` **thấp** → **Ít hủy đơn hàng**.
- 👉 Đây là **nhóm khách hàng trung thành**, đóng góp **doanh thu chính**.

---

### 🌊 Cụm 2 (Biểu đồ Xanh Dương)
🎯 **Hồ sơ:** Khách hàng mua thưa thớt, nhưng giá trị giao dịch cao

- `Days_Since_Last_Purchase` và `Average_Days_Between_Purchases` **cao** → **Mua không thường xuyên**.
- `Average_Transaction_Value`, `Total_Spend` và `Spending_Trend` **cao** → **Mỗi lần mua giá trị lớn**.
- `Is_UK` **cao** → Chủ yếu là **người Anh**.
- `Hour` **cao** → Thường mua **vào cuối ngày**.
- `Total_Transactions` và `Total_Products_Purchased` **thấp** → **Ít mua nhưng khi mua thì mua lớn**.
- `Monthly_Spending_Std` **vừa phải** → Chi tiêu **khá ổn định**.
- 👉 Đây là nhóm **VIP thầm lặng** – **ít mua nhưng giá trị cao**.

---

### ✅ Tóm lại:

| Cụm      | Hồ sơ Khách Hàng                                                                                      |
|----------|--------------------------------------------------------------------------------------------------------|
| 🌶️ Cụm 0 | **Khách ít hoạt động**, **không thường xuyên**, **chi tiêu thấp**                                      |
| 🌿 Cụm 1 | **Khách trung thành**, **mua thường xuyên**, **đóng góp doanh thu chính**                               |
| 🌊 Cụm 2 | **Khách ít mua nhưng giao dịch lớn** – **tập trung vào giá trị cao**                                    |

## Step 11.2 | Histogram Chart Approach
## Xác Thực Hồ Sơ Khách Hàng Bằng Biểu Đồ Histogram

Để xác thực các **hồ sơ khách hàng** đã được xác định từ **biểu đồ radar**, chúng ta có thể vẽ **các biểu đồ histogram** cho từng **đặc trưng (feature)**, được phân chia theo **nhãn cụm (cluster labels)**.

---

### 🎯 Mục đích:
✅ Quan sát trực quan **sự phân bố giá trị của các đặc trưng trong từng cụm**.  
✅ Xác nhận hoặc **điều chỉnh lại hồ sơ khách hàng** đã xây dựng dựa trên biểu đồ radar.

---

### 📊 Biểu đồ Histogram giúp:
- So sánh **sự khác biệt rõ rệt** giữa các cụm.
- Hiểu rõ hơn về **mức độ lan tỏa** và **tần suất xuất hiện** của các giá trị trong từng cụm.
- Kiểm tra xem **hồ sơ cụm đã xác định** có phù hợp với dữ liệu thực tế hay không.

---

✅ Bước này là một phần quan trọng để **đảm bảo tính chính xác** và **độ tin cậy** của phân tích cụm, trước khi tiến tới các bước triển khai chiến lược kinh doanh hoặc gợi ý cá nhân hóa.

import matplotlib.pyplot as plt
import numpy as np

# Lấy danh sách các đặc trưng (bỏ cột CustomerID và cluster)
features = customer_data_cleaned.columns.difference(['CustomerID', 'cluster']).tolist()
clusters = sorted(customer_data_cleaned['cluster'].unique())  # Lấy danh sách cụm và sắp xếp

# Màu cho các cụm (tùy chỉnh theo số cụm)
colors = ['#ff6200', '#2ca02c', '#1f77b4']

# Thiết lập hệ thống subplot
n_rows = len(features)
n_cols = len(clusters)
fig, axes = plt.subplots(n_rows, n_cols, figsize=(4*n_cols, 2.5*n_rows), squeeze=False)

# Vẽ histogram cho từng feature và từng cluster
for i, feature in enumerate(features):
    for j, cluster in enumerate(clusters):
        data = customer_data_cleaned[customer_data_cleaned['cluster'] == cluster][feature]
        ax = axes[i, j]
        ax.hist(data, bins=20, color=colors[j % len(colors)], edgecolor='w', alpha=0.7)
        ax.set_title(f'Cluster {cluster} - {feature}', fontsize=12)
        ax.set_xlabel('')
        ax.set_ylabel('')
        ax.grid(axis='y', linestyle='--', linewidth=0.5, alpha=0.5)

# Gỡ nhãn trục để gọn
for ax in axes.flat:
    ax.label_outer()

plt.tight_layout()
plt.show()


The detailed insights from the histograms provide a more nuanced understanding of each cluster, helping in refining the profiles to represent the customer behaviors more accurately. Based on the detailed analysis from both the radar charts and the histograms, here are the refined profiles and titles for each cluster:
# Tiếng Việt
Những hiểu biết chi tiết từ các biểu đồ histogram cung cấp một cái nhìn sâu sắc hơn về từng cụm, giúp tinh chỉnh các hồ sơ khách hàng để phản ánh chính xác hơn hành vi của họ. Dựa trên phân tích chi tiết từ cả biểu đồ radar và biểu đồ histogram, dưới đây là các hồ sơ được điều chỉnh và tiêu đề phù hợp cho từng cụm khách hàng:
## Phân Tích Hồ Sơ Khách Hàng Theo Cụm

---

### 🟧 Cluster 0 – Low-Frequency, Low-Spend Buyers
🎯 **Hồ sơ:** Khách hàng mua ít, giao dịch nhỏ, chi tiêu thấp, mua rải rác

- Tần suất giao dịch và số sản phẩm mua **thấp nhất** trong 3 cụm.
- **Giá trị giao dịch trung bình thấp**, tổng chi tiêu thấp → **nhóm ít mua, mua nhỏ lẻ**.
- Ngày mua sắm **phân tán**, chủ yếu vào **giữa tuần**.  
  Giờ mua tập trung vào **buổi chiều** (11h–16h).
- `Spending_Trend` gần như **không đổi**, hành vi chi tiêu ổn định nhưng **thấp**.
- Tỷ lệ hủy đơn **thấp**, không có dấu hiệu mua bốc đồng.
- Chi tiêu hàng tháng **dao động nhỏ**, không biến động lớn.
- `Is_UK` phân bố **trung bình**, không quá tập trung vào khách UK.

👉 **Kết luận:** Nhóm khách hàng **nhỏ lẻ**, ít mua, chi tiêu thấp → **không phải khách hàng tiềm năng cao**.

---

### 🟩 Cluster 1 – High-Volume Shoppers with Moderate Spending
🎯 **Hồ sơ:** Khách hàng mua nhiều, giao dịch dày, chi tiêu khá cao

- Tần suất giao dịch và số sản phẩm mua **cao nhất** → **nhóm mua nhiều nhất**.
- Giá trị giao dịch trung bình **không quá cao**, nhưng tổng chi tiêu **cao** nhờ **mua nhiều lần**.
- Ngày mua dồn vào **đầu tuần (thứ 2–4)**.  
  Giờ mua tập trung vào **buổi sáng và đầu giờ chiều (8h–14h)**.
- `Spending_Trend` **tăng dương rõ rệt**, chi tiêu ngày càng nhiều.
- Tỷ lệ hủy đơn **thấp**, hành vi mua **ổn định, có kế hoạch**.
- `Is_UK` **cao**, chủ yếu là khách hàng UK.
- `Monthly_Spending_Mean` và `Std` **cao**, chi tiêu nhiều và biến động theo thời gian.

👉 **Kết luận:** Đây là **khách hàng trung thành, có giá trị cao** → **ưu tiên giữ chân**, tăng cường **upsell/cross-sell**.

---

### 🟦 Cluster 2 – Big Spenders with Occasional Shopping
🎯 **Hồ sơ:** Khách hàng chi tiêu cao nhưng ít mua, có hành vi bốc đồng

- Tần suất giao dịch và số sản phẩm mua **trung bình**.
- Giá trị giao dịch trung bình **rất cao** → **ít mua nhưng chi đậm mỗi lần**.
- Ngày mua tập trung vào **cuối tuần (thứ 5–7)**.  
  Giờ mua thường là **cuối buổi chiều và tối (16h–21h)**.
- `Spending_Trend` **giảm nhẹ**, chi tiêu đang có xu hướng giảm.
- Tỷ lệ hủy đơn **cao nhất** trong 3 cụm → khả năng **mua bốc đồng hoặc đổi ý sau mua**.
- Chi tiêu hàng tháng **biến động mạnh**, thể hiện sự không ổn định.
- `Is_UK` **cao**, nhiều khách hàng đến từ UK.

👉 **Kết luận:** Nhóm **khách hàng tiềm năng nhưng rủi ro cao** → cần **giữ chân**, giảm **tỷ lệ hủy đơn** và tối ưu **chi tiêu dài hạn**.

---

✅ Phân tích này là cơ sở vững chắc để xây dựng các **chiến lược chăm sóc khách hàng**, **ưu đãi cá nhân hóa**, và **tối ưu hóa doanh thu** cho từng nhóm.
