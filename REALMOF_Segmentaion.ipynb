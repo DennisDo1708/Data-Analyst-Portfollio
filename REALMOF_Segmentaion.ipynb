import warnings
warnings.filterwarnings('ignore')

import pandas as pd
import numpy as np
import matplotlib.pyplot as plt
import seaborn as sns
import matplotlib.gridspec as gridspec
import matplotlib.ticker as mtick
from matplotlib.colors import LinearSegmentedColormap
from matplotlib import colors as mcolors

import plotly.graph_objects as go
from scipy.stats import linregress
from sklearn.ensemble import IsolationForest
from sklearn.preprocessing import StandardScaler
from sklearn.decomposition import PCA
from yellowbrick.cluster import KElbowVisualizer, SilhouetteVisualizer
from sklearn.metrics import silhouette_score, calinski_harabasz_score, davies_bouldin_score
from sklearn.cluster import KMeans
from tabulate import tabulate
from collections import Counter

df = pd.read_excel(r"REALM of - SỔ QUỸ  (1).xlsx")

# Initial Data Analysis
df.head(10)
df.info()
df.describe().T
df.describe(include='object').T
Làm Sạch Dữ Liệu (Data Cleaning)
# Xóa dòng thiếu ngày và mã đơn hàng (quan trọng)
df_clean = df.dropna(subset=['ngày_tạo', 'mã_đơn_hàng'])

# Chuyển ngày_tạo sang datetime
df_clean['ngày_tạo'] = pd.to_datetime(df_clean['ngày_tạo'], errors='coerce')

# Tạo cột Total_Amount = số_lượng * giá_trị_đơn
df_clean['total_amount'] = df_clean['số_lượng'] * df_clean['giá_trị_đơn']

# Kiểm tra missing values
print(df_clean.isnull().sum())

# Ép kiểu cột giá_trị_đơn về numeric, nếu lỗi thì thành NaN
df_clean['giá_trị_đơn'] = pd.to_numeric(df_clean['giá_trị_đơn'], errors='coerce')

# Tính giá trung bình
mean_price = df_clean['giá_trị_đơn'].mean()

# Điền giá trị thiếu
df_clean['giá_trị_đơn'].fillna(mean_price, inplace=True)

# Cập nhật lại total_amount
df_clean['total_amount'] = df_clean['số_lượng'] * df_clean['giá_trị_đơn']

df_clean['địa_chỉ'].fillna('Unknown', inplace=True)
df_clean['thành_phố_tỉnh'].fillna('Unknown', inplace=True)
df_clean['người_tạo_đơn'].fillna('Unknown', inplace=True)

df_clean['size'].fillna('Unknown', inplace=True)
print(df_clean.isnull().sum())

# Kiểm tra duplicate toàn bộ dòng
duplicate_rows = df_clean[df_clean.duplicated()]
print(f"Số dòng duplicate toàn bộ: {duplicate_rows.shape[0]}")

import matplotlib.pyplot as plt

# Tính số lượng và % missing values cho mỗi cột
missing_values = df_clean.isnull().sum()
percentage_missing = (missing_values[missing_values > 0] / df_clean.shape[0]) * 100

# Sort giảm dần cho dễ xem
percentage_missing.sort_values(ascending=True, inplace=True)

# Vẽ biểu đồ
fig, ax = plt.subplots(figsize=(15, 4))
ax.barh(percentage_missing.index, percentage_missing, color='#ff6200')

# Hiển thị % trên cột
for i, (value, name) in enumerate(zip(percentage_missing, percentage_missing.index)):
    ax.text(value + 0.2, i, f"{value:.1f}%", ha='left', va='center', fontweight='bold', fontsize=12, color='red')

# Giới hạn trục X (có thể chỉnh nếu dữ liệu ít missing)
ax.set_xlim([0, 10])

# Thêm tiêu đề và nhãn trục
plt.title("% Missing Values", fontweight='bold', fontsize=18)
plt.xlabel('Percentage (%)', fontsize=14)
plt.ylabel('Columns', fontsize=14)

plt.grid(axis='x', linestyle='--', alpha=0.7)
plt.show()

EDA
# Tổng doanh thu toàn bộ từ tháng 2-5
total_revenue = df_clean['total_amount'].sum()
print(f"Tổng doanh thu: {total_revenue:,.0f} VND")

# Tổng số lượng bán được từ tháng 2-5
total_quantity = df_clean['số_lượng'].sum()
print(f"Tổng số sản phẩm bán được: {total_quantity:,}")

import matplotlib.pyplot as plt

top_products = df_clean.groupby('tên_sản_phẩm')['số_lượng'].sum().sort_values(ascending=False).head(10)

plt.figure(figsize=(10,6))
bars = plt.barh(top_products.index, top_products.values, color='green')

plt.title('Top 10 sản phẩm bán chạy')
plt.xlabel('Số lượng bán')
plt.ylabel('Tên sản phẩm')

# Thêm số trên từng bar
for bar in bars:
    width = bar.get_width()
    plt.text(width + 0.5, bar.get_y() + bar.get_height()/2, f'{int(width)}', va='center', fontsize=10, fontweight='bold')

plt.grid(axis='x', linestyle='--', alpha=0.7)
plt.show()

revenue_by_city = df_clean.groupby('thành_phố_tỉnh')['total_amount'].sum().sort_values(ascending=False)

top_10_cities = revenue_by_city.head(10)

plt.figure(figsize=(10,6))
top_10_cities.plot(kind='barh', color='green')
plt.title('Top 10 Tỉnh Thành Có Doanh Thu Cao Nhất')
plt.xlabel('Doanh thu (VNĐ)')
plt.ylabel('Tỉnh thành')

# Hiển thị giá trị trên cột
for index, value in enumerate(top_10_cities):
    plt.text(value, index, f'{int(value):,}', va='center', fontsize=10)

plt.grid(axis='x', linestyle='--', alpha=0.7)
plt.show()

payment_methods = df_clean['hình_thức_thanh_toán'].value_counts()

payment_methods.plot(kind='pie', autopct='%1.1f%%', figsize=(6,6), startangle=90, colors=['#4CAF50', '#FF9800', '#2196F3'])
plt.title('Phương Thức Thanh Toán Phổ Biến')
plt.ylabel('')
plt.show()

df_clean['year'] = df_clean['ngày_tạo'].dt.year
df_clean['month'] = df_clean['ngày_tạo'].dt.month
revenue_by_month = df_clean.groupby('month')['total_amount'].sum().reset_index()
# In từng tháng với doanh thu có format đẹp
print("=== Doanh thu theo từng tháng ===")
for index, row in revenue_by_month.iterrows():
    month = int(row['month'])
    total = row['total_amount']
    print(f"Tháng {month}: {total:,.0f} VND")
import matplotlib.pyplot as plt
import matplotlib.ticker as ticker

plt.figure(figsize=(10,6))
bars = plt.bar(revenue_by_month['month'], revenue_by_month['total_amount'], color='orange', width=0.6)

plt.title('Doanh Thu Theo Tháng')
plt.xlabel('Tháng')
plt.ylabel('Doanh thu (VNĐ)')

# Hiển thị số tiền rõ ràng trên trục Y
ax = plt.gca()
ax.yaxis.set_major_formatter(ticker.FuncFormatter(lambda x, _: f'{int(x):,}'))

# Hiển thị rõ các tháng (2,3,4,5)
plt.xticks([2,3,4,5])

# Thêm số trên mỗi cột
for bar in bars:
    height = bar.get_height()
    plt.text(bar.get_x() + bar.get_width()/2, height + 1e6, f'{int(height):,}', ha='center', va='bottom', fontsize=10, fontweight='bold')

plt.grid(axis='y', linestyle='--', alpha=0.7)
plt.show()

RFM
from datetime import timedelta

# Xác định ngày tham chiếu (max ngày + 1 ngày)
today = df_clean['ngày_tạo'].max() + timedelta(days=1)

# Tính RFM
rfm = df_clean.groupby('tên_khách_hàng').agg({
    'ngày_tạo': lambda x: (today - x.max()).days,  # Recency: Số ngày kể từ đơn hàng gần nhất
    'mã_đơn_hàng': 'nunique',                     # Frequency: Số lần mua
    'total_amount': 'sum'                         # Monetary: Tổng tiền đã mua
}).reset_index()

# Đổi tên cột
rfm.columns = ['tên_khách_hàng', 'recency', 'frequency', 'monetary']

# Xem kết quả
rfm.head()

from sklearn.preprocessing import MinMaxScaler

scaler = MinMaxScaler()
rfm_scaled = scaler.fit_transform(rfm[['recency', 'frequency', 'monetary']])

K-means
from sklearn.cluster import KMeans
import matplotlib.pyplot as plt

inertia = []
for k in range(1, 11):
    kmeans = KMeans(n_clusters=k, random_state=42)
    kmeans.fit(rfm_scaled)
    inertia.append(kmeans.inertia_)

plt.figure(figsize=(8,5))
plt.plot(range(1,11), inertia, marker='o')
plt.title('Elbow Method - Chọn số Cluster')
plt.xlabel('Số Cluster')
plt.ylabel('Inertia')
plt.grid(True)
plt.show()

k = 3  # hoặc số cluster anh thấy phù hợp sau Elbow
kmeans = KMeans(n_clusters=k, random_state=42)
rfm['cluster'] = kmeans.fit_predict(rfm_scaled)

# Xem kết quả phân cụm
rfm.head()

# Không cần import ace_tools gì cả!
import pandas as pd

# Format lại bảng cluster summary cho đẹp
summary = rfm.groupby('cluster').agg({
    'recency': ['mean', 'min', 'max'],
    'frequency': ['mean', 'min', 'max'],
    'monetary': ['mean', 'min', 'max'],
    'tên_khách_hàng': 'count'
}).reset_index()

# Làm đẹp tiêu đề cột
summary.columns = ['Cluster', 
                   'Recency_Mean', 'Recency_Min', 'Recency_Max',
                   'Frequency_Mean', 'Frequency_Min', 'Frequency_Max',
                   'Monetary_Mean', 'Monetary_Min', 'Monetary_Max',
                   'Customer_Count']

# Format số tiền dễ đọc
summary['Monetary_Mean'] = summary['Monetary_Mean'].apply(lambda x: f"{x:,.0f}")
summary['Monetary_Min'] = summary['Monetary_Min'].apply(lambda x: f"{x:,.0f}")
summary['Monetary_Max'] = summary['Monetary_Max'].apply(lambda x: f"{x:,.0f}")

# Hiển thị bảng
print(summary)

## Nhận xét & Kết luận Phân Cụm Khách Hàng (RFM Analysis)

### Phân cụm khách hàng đã chia thành 3 nhóm rõ rệt:

| Cluster | Recency (Ngày trung bình) | Frequency (Số lần mua trung bình) | Monetary (Chi tiêu trung bình) | Số lượng khách hàng | Đặc điểm |
| :---: | :---: | :---: | :---: | :---: | :--- |
| 0 | 38.49 | 1.15 | 746,903 VND | 110 | Khách mua đều, giá trị trung bình |
| 1 | 96.85 | 1.06 | 652,836 VND | 149 | Khách đã lâu không mua, cần kích hoạt lại |
| 2 | 40.52 | 3.48 | 2,713,998 VND | 21 | Khách VIP, chi tiêu cao, mua thường xuyên |

### Nhận xét chi tiết:

- **Cluster 2 (VIP Customers)**: Nhóm khách hàng chi tiêu cao nhất, mua nhiều lần, giá trị đơn hàng lớn. Đây là nhóm quan trọng cần ưu tiên chăm sóc, upsell và tặng voucher tri ân.
- **Cluster 0 (Regular Customers)**: Nhóm khách hàng mua đều đặn nhưng chi tiêu chưa cao. Cần đẩy mạnh chiến dịch upsell, combo deal để tăng giá trị đơn hàng.
- **Cluster 1 (Inactive Customers)**: Nhóm khách hàng đã lâu không mua hàng, có tần suất mua thấp. Cần thực hiện chiến dịch remarketing, email nhắc nhở, ưu đãi đặc biệt để kích thích họ quay lại mua hàng.

### Recommendation (Đề xuất chiến lược):

- **Cluster 2 (VIP)**: Gửi quà tri ân, giảm giá độc quyền, early access sản phẩm mới.
- **Cluster 0 (Regular)**: Chạy chương trình upsell/cross-sell, giảm giá cho đơn hàng trên mức trung bình.
- **Cluster 1 (Inactive)**: Tạo chiến dịch remarketing qua email/SMS, nhấn mạnh ưu đãi giới hạn, quà tặng comeback.

### Tóm lại:

RFM Analysis giúp phân loại khách hàng theo giá trị và hành vi mua hàng, từ đó doanh nghiệp có thể tối ưu hóa chiến lược marketing, tăng doanh thu và giữ chân khách hàng hiệu quả hơn.
